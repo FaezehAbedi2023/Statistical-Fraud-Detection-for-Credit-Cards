{
 "cells": [
  {
   "cell_type": "code",
   "execution_count": 1,
   "id": "e90670c3-d5f2-4cc0-a8df-d561c597d1b9",
   "metadata": {
    "scrolled": true,
    "tags": []
   },
   "outputs": [
    {
     "name": "stdout",
     "output_type": "stream",
     "text": [
      "*****************************\n",
      "* 1 = Distance module II    *\n",
      "* 2 = Statistics module III *\n",
      "* 3 = Exit                  *\n",
      "*****************************\n"
     ]
    },
    {
     "name": "stdin",
     "output_type": "stream",
     "text": [
      "Please select the module : 1\n"
     ]
    },
    {
     "name": "stdout",
     "output_type": "stream",
     "text": [
      "****************************************************************\n",
      "* 1 = Computes the distance between any two given transactions *\n",
      "* 2 = Computes the distance of transactions of any two users   *\n",
      "* 0 = Back                                                     *\n",
      "****************************************************************\n"
     ]
    },
    {
     "name": "stdin",
     "output_type": "stream",
     "text": [
      "Welcome to the distance module. Please select the desired function : 1\n",
      "Please enter x coordinate 1 : 1\n",
      "Please enter y coordinate 1 : 2\n",
      "Please enter x coordinate 2 : 12\n",
      "Please enter y coordinate 2 : 14\n"
     ]
    },
    {
     "name": "stdout",
     "output_type": "stream",
     "text": [
      "16.278820596099706\n",
      "****************************************************************\n",
      "* 1 = Computes the distance between any two given transactions *\n",
      "* 2 = Computes the distance of transactions of any two users   *\n",
      "* 0 = Back                                                     *\n",
      "****************************************************************\n"
     ]
    },
    {
     "name": "stdin",
     "output_type": "stream",
     "text": [
      "Welcome to the distance module. Please select the desired function : 2\n",
      "Please enter user ID 1 : 26\n",
      "Please enter user ID 2 : 29\n"
     ]
    },
    {
     "name": "stdout",
     "output_type": "stream",
     "text": [
      "distance  0 :  494.38547713297567  x1,y1:  (549.0, 677.0)  x2,y2:  (358.0, 221.0)\n",
      "distance  1 :  909.4641279346866  x1,y1:  (792.0, 743.0)  x2,y2:  (122.0, 128.0)\n",
      "distance  2 :  618.7220700767025  x1,y1:  (709.0, 586.0)  x2,y2:  (270.0, 150.0)\n",
      "distance  3 :  568.36959806098  x1,y1:  (708.0, 628.0)  x2,y2:  (218.0, 340.0)\n",
      "distance  4 :  641.3774239868441  x1,y1:  (552.0, 640.0)  x2,y2:  (103.0, 182.0)\n",
      "distance  5 :  807.0935509592429  x1,y1:  (643.0, 791.0)  x2,y2:  (193.0, 121.0)\n",
      "distance  6 :  622.3544006432348  x1,y1:  (738.0, 639.0)  x2,y2:  (253.0, 249.0)\n",
      "distance  7 :  618.431079425994  x1,y1:  (756.0, 704.0)  x2,y2:  (265.0, 328.0)\n",
      "distance  8 :  618.3752905800814  x1,y1:  (749.0, 752.0)  x2,y2:  (297.0, 330.0)\n",
      "distance  9 :  736.2445245976367  x1,y1:  (596.0, 780.0)  x2,y2:  (130.0, 210.0)\n",
      "distance  10 :  455.44813096553594  x1,y1:  (579.0, 528.0)  x2,y2:  (387.0, 115.0)\n",
      "distance  11 :  439.82951242498496  x1,y1:  (504.0, 552.0)  x2,y2:  (191.0, 243.0)\n",
      "distance  12 :  500.48976013501016  x1,y1:  (631.0, 563.0)  x2,y2:  (380.0, 130.0)\n",
      "distance  13 :  571.1479668177066  x1,y1:  (514.0, 649.0)  x2,y2:  (161.0, 200.0)\n",
      "distance  14 :  674.9940740480615  x1,y1:  (690.0, 679.0)  x2,y2:  (186.0, 230.0)\n",
      "distance  15 :  662.07703479278  x1,y1:  (671.0, 660.0)  x2,y2:  (116.0, 299.0)\n",
      "distance  16 :  526.8719009398774  x1,y1:  (667.0, 512.0)  x2,y2:  (262.0, 175.0)\n",
      "distance  17 :  586.2098600330772  x1,y1:  (779.0, 692.0)  x2,y2:  (308.0, 343.0)\n",
      "distance  18 :  585.2392673086795  x1,y1:  (759.0, 623.0)  x2,y2:  (220.0, 395.0)\n",
      "distance  19 :  558.4263604093202  x1,y1:  (655.0, 632.0)  x2,y2:  (179.0, 340.0)\n",
      "distance  20 :  517.6446657698696  x1,y1:  (691.0, 773.0)  x2,y2:  (375.0, 363.0)\n",
      "distance  21 :  341.2638275586793  x1,y1:  (541.0, 555.0)  x2,y2:  (272.0, 345.0)\n",
      "distance  22 :  530.8125846285109  x1,y1:  (727.0, 525.0)  x2,y2:  (228.0, 344.0)\n",
      "distance  23 :  528.7816184399757  x1,y1:  (547.0, 522.0)  x2,y2:  (200.0, 123.0)\n",
      "distance  24 :  472.05508153180597  x1,y1:  (734.0, 507.0)  x2,y2:  (378.0, 197.0)\n",
      "distance  25 :  775.2496372137172  x1,y1:  (787.0, 766.0)  x2,y2:  (301.0, 162.0)\n",
      "distance  26 :  430.03488230607525  x1,y1:  (536.0, 681.0)  x2,y2:  (225.0, 384.0)\n",
      "distance  27 :  592.220398162711  x1,y1:  (614.0, 573.0)  x2,y2:  (229.0, 123.0)\n",
      "distance  28 :  584.9316199351853  x1,y1:  (715.0, 717.0)  x2,y2:  (292.0, 313.0)\n",
      "distance  29 :  437.13842201298206  x1,y1:  (506.0, 652.0)  x2,y2:  (205.0, 335.0)\n",
      "distance  30 :  585.6227454599078  x1,y1:  (683.0, 762.0)  x2,y2:  (260.0, 357.0)\n",
      "distance  31 :  415.0867379235333  x1,y1:  (601.0, 671.0)  x2,y2:  (305.0, 380.0)\n",
      "distance  32 :  610.5317354568884  x1,y1:  (597.0, 713.0)  x2,y2:  (179.0, 268.0)\n",
      "distance  33 :  639.6162912246685  x1,y1:  (575.0, 724.0)  x2,y2:  (150.0, 246.0)\n",
      "distance  34 :  606.8978497243173  x1,y1:  (637.0, 755.0)  x2,y2:  (247.0, 290.0)\n",
      "distance  35 :  584.4997861419625  x1,y1:  (747.0, 548.0)  x2,y2:  (189.0, 374.0)\n",
      "distance  36 :  604.8346881586737  x1,y1:  (692.0, 568.0)  x2,y2:  (252.0, 153.0)\n",
      "distance  37 :  622.2796798867853  x1,y1:  (667.0, 599.0)  x2,y2:  (223.0, 163.0)\n",
      "distance  38 :  632.6618370029917  x1,y1:  (725.0, 675.0)  x2,y2:  (230.0, 281.0)\n",
      "distance  39 :  544.8853090330111  x1,y1:  (667.0, 733.0)  x2,y2:  (297.0, 333.0)\n",
      "distance  40 :  580.8149447113082  x1,y1:  (590.0, 677.0)  x2,y2:  (135.0, 316.0)\n",
      "distance  41 :  316.79804292324786  x1,y1:  (563.0, 564.0)  x2,y2:  (382.0, 304.0)\n",
      "distance  42 :  701.8518362161632  x1,y1:  (732.0, 553.0)  x2,y2:  (118.0, 213.0)\n",
      "distance  43 :  651.5681084890512  x1,y1:  (751.0, 556.0)  x2,y2:  (276.0, 110.0)\n",
      "distance  44 :  599.3037627113649  x1,y1:  (730.0, 550.0)  x2,y2:  (164.0, 353.0)\n",
      "distance  45 :  465.3106489217714  x1,y1:  (553.0, 644.0)  x2,y2:  (220.0, 319.0)\n",
      "distance  46 :  582.1151088917037  x1,y1:  (739.0, 665.0)  x2,y2:  (236.0, 372.0)\n",
      "distance  47 :  437.8333016114695  x1,y1:  (501.0, 566.0)  x2,y2:  (388.0, 143.0)\n",
      "distance  48 :  741.1045810140429  x1,y1:  (735.0, 523.0)  x2,y2:  (115.0, 117.0)\n",
      "distance  49 :  449.5887009256349  x1,y1:  (504.0, 588.0)  x2,y2:  (313.0, 181.0)\n",
      "distance  50 :  758.4932432131482  x1,y1:  (626.0, 778.0)  x2,y2:  (282.0, 102.0)\n",
      "distance  51 :  698.2585481037809  x1,y1:  (696.0, 715.0)  x2,y2:  (149.0, 281.0)\n",
      "distance  52 :  555.5114760290736  x1,y1:  (702.0, 556.0)  x2,y2:  (325.0, 148.0)\n",
      "distance  53 :  675.3169626182953  x1,y1:  (712.0, 757.0)  x2,y2:  (230.0, 284.0)\n",
      "distance  54 :  555.3017197884408  x1,y1:  (622.0, 600.0)  x2,y2:  (308.0, 142.0)\n",
      "distance  55 :  668.8445260297792  x1,y1:  (660.0, 699.0)  x2,y2:  (208.0, 206.0)\n",
      "distance  56 :  301.8377047355085  x1,y1:  (541.0, 534.0)  x2,y2:  (386.0, 275.0)\n",
      "distance  57 :  736.087630652764  x1,y1:  (730.0, 786.0)  x2,y2:  (321.0, 174.0)\n",
      "distance  58 :  641.7515095424396  x1,y1:  (573.0, 614.0)  x2,y2:  (167.0, 117.0)\n",
      "distance  59 :  427.1123973850443  x1,y1:  (571.0, 658.0)  x2,y2:  (376.0, 278.0)\n",
      "distance  60 :  364.01236242743187  x1,y1:  (583.0, 670.0)  x2,y2:  (367.0, 377.0)\n",
      "distance  61 :  786.3090995276604  x1,y1:  (768.0, 718.0)  x2,y2:  (117.0, 277.0)\n",
      "distance  62 :  569.9438568841672  x1,y1:  (706.0, 642.0)  x2,y2:  (306.0, 236.0)\n",
      "distance  63 :  771.7227481421031  x1,y1:  (751.0, 722.0)  x2,y2:  (101.0, 306.0)\n",
      "distance  64 :  419.7153797515645  x1,y1:  (596.0, 507.0)  x2,y2:  (396.0, 138.0)\n",
      "distance  65 :  557.6253222370734  x1,y1:  (624.0, 729.0)  x2,y2:  (199.0, 368.0)\n",
      "distance  66 :  686.5136560914138  x1,y1:  (695.0, 566.0)  x2,y2:  (105.0, 215.0)\n",
      "distance  67 :  588.7478237751711  x1,y1:  (641.0, 717.0)  x2,y2:  (209.0, 317.0)\n",
      "distance  68 :  662.8219972209733  x1,y1:  (630.0, 749.0)  x2,y2:  (103.0, 347.0)\n",
      "distance  69 :  516.7842876868452  x1,y1:  (612.0, 554.0)  x2,y2:  (177.0, 275.0)\n",
      "distance  70 :  295.6653513687392  x1,y1:  (515.0, 600.0)  x2,y2:  (388.0, 333.0)\n",
      "distance  71 :  709.0853263183494  x1,y1:  (746.0, 733.0)  x2,y2:  (225.0, 252.0)\n",
      "distance  72 :  567.7252856796146  x1,y1:  (698.0, 707.0)  x2,y2:  (264.0, 341.0)\n",
      "distance  73 :  539.2003338277898  x1,y1:  (565.0, 706.0)  x2,y2:  (134.0, 382.0)\n",
      "distance  74 :  501.7897966280303  x1,y1:  (696.0, 528.0)  x2,y2:  (384.0, 135.0)\n",
      "distance  75 :  649.5536929307692  x1,y1:  (636.0, 712.0)  x2,y2:  (360.0, 124.0)\n",
      "distance  76 :  730.9343335758692  x1,y1:  (762.0, 605.0)  x2,y2:  (101.0, 293.0)\n",
      "distance  77 :  441.184768549414  x1,y1:  (593.0, 603.0)  x2,y2:  (383.0, 215.0)\n",
      "distance  78 :  602.415969243844  x1,y1:  (503.0, 750.0)  x2,y2:  (255.0, 201.0)\n",
      "distance  79 :  731.5606605060171  x1,y1:  (684.0, 794.0)  x2,y2:  (319.0, 160.0)\n",
      "distance  80 :  548.1724181313759  x1,y1:  (516.0, 714.0)  x2,y2:  (138.0, 317.0)\n",
      "distance  81 :  544.479568028039  x1,y1:  (736.0, 529.0)  x2,y2:  (349.0, 146.0)\n",
      "distance  82 :  601.0199663904685  x1,y1:  (724.0, 531.0)  x2,y2:  (265.0, 143.0)\n",
      "distance  83 :  418.3359893673983  x1,y1:  (646.0, 546.0)  x2,y2:  (337.0, 264.0)\n",
      "distance  84 :  329.02431521089744  x1,y1:  (500.0, 554.0)  x2,y2:  (259.0, 330.0)\n",
      "distance  85 :  655.0053434896543  x1,y1:  (674.0, 710.0)  x2,y2:  (268.0, 196.0)\n",
      "distance  86 :  631.4214123705341  x1,y1:  (621.0, 705.0)  x2,y2:  (119.0, 322.0)\n",
      "distance  87 :  614.075728229019  x1,y1:  (718.0, 721.0)  x2,y2:  (210.0, 376.0)\n",
      "distance  88 :  676.4236837958883  x1,y1:  (696.0, 569.0)  x2,y2:  (178.0, 134.0)\n",
      "distance  89 :  786.539255218708  x1,y1:  (720.0, 759.0)  x2,y2:  (260.0, 121.0)\n",
      "distance  90 :  407.31560245097415  x1,y1:  (668.0, 632.0)  x2,y2:  (377.0, 347.0)\n",
      "distance  91 :  474.5039515114706  x1,y1:  (603.0, 677.0)  x2,y2:  (388.0, 254.0)\n",
      "distance  92 :  419.86902719776793  x1,y1:  (537.0, 517.0)  x2,y2:  (180.0, 296.0)\n",
      "distance  93 :  631.0071314969427  x1,y1:  (584.0, 690.0)  x2,y2:  (151.0, 231.0)\n",
      "distance  94 :  580.6728855388376  x1,y1:  (596.0, 631.0)  x2,y2:  (255.0, 161.0)\n",
      "distance  95 :  573.4675230560141  x1,y1:  (778.0, 581.0)  x2,y2:  (254.0, 348.0)\n",
      "distance  96 :  456.002192977183  x1,y1:  (686.0, 526.0)  x2,y2:  (253.0, 383.0)\n",
      "distance  97 :  674.2944460693711  x1,y1:  (755.0, 654.0)  x2,y2:  (138.0, 382.0)\n",
      "distance  98 :  512.9649110806703  x1,y1:  (557.0, 665.0)  x2,y2:  (290.0, 227.0)\n",
      "distance  99 :  559.4801158218226  x1,y1:  (734.0, 748.0)  x2,y2:  (361.0, 331.0)\n",
      "distance  100 :  440.59278251010875  x1,y1:  (392.0, 235.0)  x2,y2:  (671.0, 576.0)\n",
      "distance  101 :  638.4301058064226  x1,y1:  (154.0, 121.0)  x2,y2:  (661.0, 509.0)\n",
      "distance  102 :  443.6935879635855  x1,y1:  (175.0, 312.0)  x2,y2:  (575.0, 504.0)\n",
      "distance  103 :  557.253981591877  x1,y1:  (278.0, 109.0)  x2,y2:  (532.0, 605.0)\n",
      "distance  104 :  603.2453895389503  x1,y1:  (196.0, 173.0)  x2,y2:  (683.0, 529.0)\n",
      "distance  105 :  469.89786124220655  x1,y1:  (201.0, 216.0)  x2,y2:  (503.0, 576.0)\n",
      "distance  106 :  636.6160538346485  x1,y1:  (117.0, 192.0)  x2,y2:  (609.0, 596.0)\n",
      "distance  107 :  655.0671721281719  x1,y1:  (143.0, 158.0)  x2,y2:  (580.0, 646.0)\n",
      "distance  108 :  622.384125761575  x1,y1:  (109.0, 240.0)  x2,y2:  (558.0, 671.0)\n",
      "distance  109 :  545.4466060028241  x1,y1:  (125.0, 287.0)  x2,y2:  (571.0, 601.0)\n",
      "total_distance:  63197.42074954591\n",
      "****************************************************************\n",
      "* 1 = Computes the distance between any two given transactions *\n",
      "* 2 = Computes the distance of transactions of any two users   *\n",
      "* 0 = Back                                                     *\n",
      "****************************************************************\n"
     ]
    },
    {
     "name": "stdin",
     "output_type": "stream",
     "text": [
      "Welcome to the distance module. Please select the desired function : 0\n"
     ]
    },
    {
     "name": "stdout",
     "output_type": "stream",
     "text": [
      "*****************************\n",
      "* 1 = Distance module II    *\n",
      "* 2 = Statistics module III *\n",
      "* 3 = Exit                  *\n",
      "*****************************\n"
     ]
    },
    {
     "name": "stdin",
     "output_type": "stream",
     "text": [
      "Please select the module : 2\n"
     ]
    },
    {
     "name": "stdout",
     "output_type": "stream",
     "text": [
      "***************************************************************************\n",
      "* 1  = Average transactions of any user and of all users                  *\n",
      "* 2  = Mode of transactions of any user and that of all users             *\n",
      "* 3  = Median of all transactions of a user and that of all users         *\n",
      "* 4  = Interquartile range of any user’s transactions and of all users    *\n",
      "* 5  = Location centroid of any user based on their transaction locations *\n",
      "* 6  = Computes the standard deviation of any specific user’s transaction *\n",
      "* 7  = the transaction is fraudulent or not with details                  *\n",
      "* 8  = Abnormal transaction for any given user                            *\n",
      "* 9  = Z-score of any user’s transactions and for all users’ transactions *\n",
      "* 10 = Computes the frequencies of transactions at any given location     *\n",
      "* 11 = Outlier of any location and of any user                            *\n",
      "* 12 = Nth percentiles of transactions of any user and of all users       *\n",
      "* 0  = Back                                                               *\n",
      "***************************************************************************\n"
     ]
    },
    {
     "name": "stdin",
     "output_type": "stream",
     "text": [
      "Welcome to the Statistics module. Please select the desired function : 1\n",
      "Please enter the user ID or if you enter zero, it will return the total information separately for each user:  0\n"
     ]
    },
    {
     "name": "stdout",
     "output_type": "stream",
     "text": [
      "User ID:  21  Average amount:  408.64609090909096\n",
      "User ID:  22  Average amount:  403.2460909090909\n",
      "User ID:  23  Average amount:  141.06436363636362\n",
      "User ID:  24  Average amount:  145.68309090909094\n",
      "User ID:  25  Average amount:  147.90745454545453\n",
      "User ID:  26  Average amount:  144.41199999999998\n",
      "User ID:  27  Average amount:  359.4695454545453\n",
      "User ID:  28  Average amount:  361.0256363636363\n",
      "User ID:  29  Average amount:  710.7094545454546\n",
      "User ID:  30  Average amount:  783.4244545454545\n",
      "***************************************************************************\n",
      "* 1  = Average transactions of any user and of all users                  *\n",
      "* 2  = Mode of transactions of any user and that of all users             *\n",
      "* 3  = Median of all transactions of a user and that of all users         *\n",
      "* 4  = Interquartile range of any user’s transactions and of all users    *\n",
      "* 5  = Location centroid of any user based on their transaction locations *\n",
      "* 6  = Computes the standard deviation of any specific user’s transaction *\n",
      "* 7  = the transaction is fraudulent or not with details                  *\n",
      "* 8  = Abnormal transaction for any given user                            *\n",
      "* 9  = Z-score of any user’s transactions and for all users’ transactions *\n",
      "* 10 = Computes the frequencies of transactions at any given location     *\n",
      "* 11 = Outlier of any location and of any user                            *\n",
      "* 12 = Nth percentiles of transactions of any user and of all users       *\n",
      "* 0  = Back                                                               *\n",
      "***************************************************************************\n"
     ]
    },
    {
     "name": "stdin",
     "output_type": "stream",
     "text": [
      "Welcome to the Statistics module. Please select the desired function : 1\n",
      "Please enter the user ID or if you enter zero, it will return the total information separately for each user:  26\n"
     ]
    },
    {
     "name": "stdout",
     "output_type": "stream",
     "text": [
      "Average amount:  144.41199999999998\n",
      "***************************************************************************\n",
      "* 1  = Average transactions of any user and of all users                  *\n",
      "* 2  = Mode of transactions of any user and that of all users             *\n",
      "* 3  = Median of all transactions of a user and that of all users         *\n",
      "* 4  = Interquartile range of any user’s transactions and of all users    *\n",
      "* 5  = Location centroid of any user based on their transaction locations *\n",
      "* 6  = Computes the standard deviation of any specific user’s transaction *\n",
      "* 7  = the transaction is fraudulent or not with details                  *\n",
      "* 8  = Abnormal transaction for any given user                            *\n",
      "* 9  = Z-score of any user’s transactions and for all users’ transactions *\n",
      "* 10 = Computes the frequencies of transactions at any given location     *\n",
      "* 11 = Outlier of any location and of any user                            *\n",
      "* 12 = Nth percentiles of transactions of any user and of all users       *\n",
      "* 0  = Back                                                               *\n",
      "***************************************************************************\n"
     ]
    },
    {
     "name": "stdin",
     "output_type": "stream",
     "text": [
      "Welcome to the Statistics module. Please select the desired function : 2\n",
      "Please enter the user ID or enter 0 to return total information separately for each user:  0\n"
     ]
    },
    {
     "name": "stdout",
     "output_type": "stream",
     "text": [
      "User ID:  21  Mode:  (There is NO mode in the data set)\n",
      "User ID:  22  Mode:  [37.79]\n",
      "User ID:  23  Mode:  [60.48]\n",
      "User ID:  24  Mode:  (There is NO mode in the data set)\n",
      "User ID:  25  Mode:  (There is NO mode in the data set)\n",
      "User ID:  26  Mode:  (There is NO mode in the data set)\n",
      "User ID:  27  Mode:  [198.44, 169.97]\n",
      "User ID:  28  Mode:  (There is NO mode in the data set)\n",
      "User ID:  29  Mode:  (There is NO mode in the data set)\n",
      "User ID:  30  Mode:  (There is NO mode in the data set)\n",
      "***************************************************************************\n",
      "* 1  = Average transactions of any user and of all users                  *\n",
      "* 2  = Mode of transactions of any user and that of all users             *\n",
      "* 3  = Median of all transactions of a user and that of all users         *\n",
      "* 4  = Interquartile range of any user’s transactions and of all users    *\n",
      "* 5  = Location centroid of any user based on their transaction locations *\n",
      "* 6  = Computes the standard deviation of any specific user’s transaction *\n",
      "* 7  = the transaction is fraudulent or not with details                  *\n",
      "* 8  = Abnormal transaction for any given user                            *\n",
      "* 9  = Z-score of any user’s transactions and for all users’ transactions *\n",
      "* 10 = Computes the frequencies of transactions at any given location     *\n",
      "* 11 = Outlier of any location and of any user                            *\n",
      "* 12 = Nth percentiles of transactions of any user and of all users       *\n",
      "* 0  = Back                                                               *\n",
      "***************************************************************************\n"
     ]
    },
    {
     "name": "stdin",
     "output_type": "stream",
     "text": [
      "Welcome to the Statistics module. Please select the desired function : 2\n",
      "Please enter the user ID or enter 0 to return total information separately for each user:  27\n"
     ]
    },
    {
     "name": "stdout",
     "output_type": "stream",
     "text": [
      "User ID:  27  Mode:  [198.44, 169.97]\n",
      "***************************************************************************\n",
      "* 1  = Average transactions of any user and of all users                  *\n",
      "* 2  = Mode of transactions of any user and that of all users             *\n",
      "* 3  = Median of all transactions of a user and that of all users         *\n",
      "* 4  = Interquartile range of any user’s transactions and of all users    *\n",
      "* 5  = Location centroid of any user based on their transaction locations *\n",
      "* 6  = Computes the standard deviation of any specific user’s transaction *\n",
      "* 7  = the transaction is fraudulent or not with details                  *\n",
      "* 8  = Abnormal transaction for any given user                            *\n",
      "* 9  = Z-score of any user’s transactions and for all users’ transactions *\n",
      "* 10 = Computes the frequencies of transactions at any given location     *\n",
      "* 11 = Outlier of any location and of any user                            *\n",
      "* 12 = Nth percentiles of transactions of any user and of all users       *\n",
      "* 0  = Back                                                               *\n",
      "***************************************************************************\n"
     ]
    },
    {
     "name": "stdin",
     "output_type": "stream",
     "text": [
      "Welcome to the Statistics module. Please select the desired function : 3\n",
      "Please enter the user ID or enter 0 to return total information separately for each user:  0\n"
     ]
    },
    {
     "name": "stdout",
     "output_type": "stream",
     "text": [
      "User ID:  21  Median:  54.745\n",
      "User ID:  22  Median:  48.97\n",
      "User ID:  23  Median:  65.04499999999999\n",
      "User ID:  24  Median:  64.08\n",
      "User ID:  25  Median:  85.865\n",
      "User ID:  26  Median:  83.28999999999999\n",
      "User ID:  27  Median:  203.38\n",
      "User ID:  28  Median:  201.11\n",
      "User ID:  29  Median:  666.34\n",
      "User ID:  30  Median:  762.5\n",
      "***************************************************************************\n",
      "* 1  = Average transactions of any user and of all users                  *\n",
      "* 2  = Mode of transactions of any user and that of all users             *\n",
      "* 3  = Median of all transactions of a user and that of all users         *\n",
      "* 4  = Interquartile range of any user’s transactions and of all users    *\n",
      "* 5  = Location centroid of any user based on their transaction locations *\n",
      "* 6  = Computes the standard deviation of any specific user’s transaction *\n",
      "* 7  = the transaction is fraudulent or not with details                  *\n",
      "* 8  = Abnormal transaction for any given user                            *\n",
      "* 9  = Z-score of any user’s transactions and for all users’ transactions *\n",
      "* 10 = Computes the frequencies of transactions at any given location     *\n",
      "* 11 = Outlier of any location and of any user                            *\n",
      "* 12 = Nth percentiles of transactions of any user and of all users       *\n",
      "* 0  = Back                                                               *\n",
      "***************************************************************************\n"
     ]
    },
    {
     "name": "stdin",
     "output_type": "stream",
     "text": [
      "Welcome to the Statistics module. Please select the desired function : 3\n",
      "Please enter the user ID or enter 0 to return total information separately for each user:  28\n"
     ]
    },
    {
     "name": "stdout",
     "output_type": "stream",
     "text": [
      "User ID:  28  Median:  201.11\n",
      "***************************************************************************\n",
      "* 1  = Average transactions of any user and of all users                  *\n",
      "* 2  = Mode of transactions of any user and that of all users             *\n",
      "* 3  = Median of all transactions of a user and that of all users         *\n",
      "* 4  = Interquartile range of any user’s transactions and of all users    *\n",
      "* 5  = Location centroid of any user based on their transaction locations *\n",
      "* 6  = Computes the standard deviation of any specific user’s transaction *\n",
      "* 7  = the transaction is fraudulent or not with details                  *\n",
      "* 8  = Abnormal transaction for any given user                            *\n",
      "* 9  = Z-score of any user’s transactions and for all users’ transactions *\n",
      "* 10 = Computes the frequencies of transactions at any given location     *\n",
      "* 11 = Outlier of any location and of any user                            *\n",
      "* 12 = Nth percentiles of transactions of any user and of all users       *\n",
      "* 0  = Back                                                               *\n",
      "***************************************************************************\n"
     ]
    },
    {
     "name": "stdin",
     "output_type": "stream",
     "text": [
      "Welcome to the Statistics module. Please select the desired function : 4\n",
      "Please enter the user ID or enter 0 to return total information separately for each user:  0\n"
     ]
    },
    {
     "name": "stdout",
     "output_type": "stream",
     "text": [
      "User ID:  21  Interquartile Range:  34.949999999999996\n",
      "User ID:  22  Interquartile Range:  35.465\n",
      "User ID:  23  Interquartile Range:  32.53\n",
      "User ID:  24  Interquartile Range:  31.85000000000001\n",
      "User ID:  25  Interquartile Range:  27.935000000000002\n",
      "User ID:  26  Interquartile Range:  29.095\n",
      "User ID:  27  Interquartile Range:  37.16500000000002\n",
      "User ID:  28  Interquartile Range:  29.75999999999999\n",
      "User ID:  29  Interquartile Range:  585.8549999999999\n",
      "Error:  name 'get_number' is not defined\n",
      "***************************************************************************\n",
      "* 1  = Average transactions of any user and of all users                  *\n",
      "* 2  = Mode of transactions of any user and that of all users             *\n",
      "* 3  = Median of all transactions of a user and that of all users         *\n",
      "* 4  = Interquartile range of any user’s transactions and of all users    *\n",
      "* 5  = Location centroid of any user based on their transaction locations *\n",
      "* 6  = Computes the standard deviation of any specific user’s transaction *\n",
      "* 7  = the transaction is fraudulent or not with details                  *\n",
      "* 8  = Abnormal transaction for any given user                            *\n",
      "* 9  = Z-score of any user’s transactions and for all users’ transactions *\n",
      "* 10 = Computes the frequencies of transactions at any given location     *\n",
      "* 11 = Outlier of any location and of any user                            *\n",
      "* 12 = Nth percentiles of transactions of any user and of all users       *\n",
      "* 0  = Back                                                               *\n",
      "***************************************************************************\n"
     ]
    },
    {
     "name": "stdin",
     "output_type": "stream",
     "text": [
      "Welcome to the Statistics module. Please select the desired function : 4\n",
      "Please enter the user ID or enter 0 to return total information separately for each user:  27\n"
     ]
    },
    {
     "name": "stdout",
     "output_type": "stream",
     "text": [
      "User ID:  27  Interquartile Range:  37.16500000000002\n",
      "***************************************************************************\n",
      "* 1  = Average transactions of any user and of all users                  *\n",
      "* 2  = Mode of transactions of any user and that of all users             *\n",
      "* 3  = Median of all transactions of a user and that of all users         *\n",
      "* 4  = Interquartile range of any user’s transactions and of all users    *\n",
      "* 5  = Location centroid of any user based on their transaction locations *\n",
      "* 6  = Computes the standard deviation of any specific user’s transaction *\n",
      "* 7  = the transaction is fraudulent or not with details                  *\n",
      "* 8  = Abnormal transaction for any given user                            *\n",
      "* 9  = Z-score of any user’s transactions and for all users’ transactions *\n",
      "* 10 = Computes the frequencies of transactions at any given location     *\n",
      "* 11 = Outlier of any location and of any user                            *\n",
      "* 12 = Nth percentiles of transactions of any user and of all users       *\n",
      "* 0  = Back                                                               *\n",
      "***************************************************************************\n"
     ]
    },
    {
     "name": "stdin",
     "output_type": "stream",
     "text": [
      "Welcome to the Statistics module. Please select the desired function : 5\n"
     ]
    },
    {
     "name": "stdout",
     "output_type": "stream",
     "text": [
      "User ID:  21  Centroid:  [794.7363636363636, 775.2818181818182]\n",
      "User ID:  22  Centroid:  [787.3181818181819, 787.8272727272728]\n",
      "User ID:  23  Centroid:  [728.6272727272727, 701.1]\n",
      "User ID:  24  Centroid:  [730.3, 723.2181818181818]\n",
      "User ID:  25  Centroid:  [625.8, 613.3818181818182]\n",
      "User ID:  26  Centroid:  [609.1272727272727, 605.8727272727273]\n",
      "User ID:  27  Centroid:  [290.1, 295.7090909090909]\n",
      "User ID:  28  Centroid:  [291.09090909090907, 309.55454545454546]\n",
      "User ID:  29  Centroid:  [278.1909090909091, 282.8363636363636]\n",
      "User ID:  30  Centroid:  [289.27272727272725, 292.1272727272727]\n",
      "***************************************************************************\n",
      "* 1  = Average transactions of any user and of all users                  *\n",
      "* 2  = Mode of transactions of any user and that of all users             *\n",
      "* 3  = Median of all transactions of a user and that of all users         *\n",
      "* 4  = Interquartile range of any user’s transactions and of all users    *\n",
      "* 5  = Location centroid of any user based on their transaction locations *\n",
      "* 6  = Computes the standard deviation of any specific user’s transaction *\n",
      "* 7  = the transaction is fraudulent or not with details                  *\n",
      "* 8  = Abnormal transaction for any given user                            *\n",
      "* 9  = Z-score of any user’s transactions and for all users’ transactions *\n",
      "* 10 = Computes the frequencies of transactions at any given location     *\n",
      "* 11 = Outlier of any location and of any user                            *\n",
      "* 12 = Nth percentiles of transactions of any user and of all users       *\n",
      "* 0  = Back                                                               *\n",
      "***************************************************************************\n"
     ]
    },
    {
     "name": "stdin",
     "output_type": "stream",
     "text": [
      "Welcome to the Statistics module. Please select the desired function : 6\n",
      "Please enter the user ID or enter 0 to return total information separately for each user:  0\n"
     ]
    },
    {
     "name": "stdout",
     "output_type": "stream",
     "text": [
      "User ID:  21  Standard Deviation of Amount:  1129.6828600429055\n",
      "User ID:  22  Standard Deviation of Amount:  1122.2449312711597\n",
      "User ID:  23  Standard Deviation of Amount:  257.638023663671\n",
      "User ID:  24  Standard Deviation of Amount:  269.98411588544667\n",
      "User ID:  25  Standard Deviation of Amount:  208.07804020448393\n",
      "User ID:  26  Standard Deviation of Amount:  203.7522967178976\n",
      "User ID:  27  Standard Deviation of Amount:  510.8800842243374\n",
      "User ID:  28  Standard Deviation of Amount:  513.4214339268514\n",
      "User ID:  29  Standard Deviation of Amount:  403.73251733573295\n",
      "User ID:  30  Standard Deviation of Amount:  444.366016650456\n",
      "***************************************************************************\n",
      "* 1  = Average transactions of any user and of all users                  *\n",
      "* 2  = Mode of transactions of any user and that of all users             *\n",
      "* 3  = Median of all transactions of a user and that of all users         *\n",
      "* 4  = Interquartile range of any user’s transactions and of all users    *\n",
      "* 5  = Location centroid of any user based on their transaction locations *\n",
      "* 6  = Computes the standard deviation of any specific user’s transaction *\n",
      "* 7  = the transaction is fraudulent or not with details                  *\n",
      "* 8  = Abnormal transaction for any given user                            *\n",
      "* 9  = Z-score of any user’s transactions and for all users’ transactions *\n",
      "* 10 = Computes the frequencies of transactions at any given location     *\n",
      "* 11 = Outlier of any location and of any user                            *\n",
      "* 12 = Nth percentiles of transactions of any user and of all users       *\n",
      "* 0  = Back                                                               *\n",
      "***************************************************************************\n"
     ]
    },
    {
     "name": "stdin",
     "output_type": "stream",
     "text": [
      "Welcome to the Statistics module. Please select the desired function : 6\n",
      "Please enter the user ID or enter 0 to return total information separately for each user:  26\n"
     ]
    },
    {
     "name": "stdout",
     "output_type": "stream",
     "text": [
      "User ID:  26  Standard Deviation of Amount:  203.7522967178976\n",
      "***************************************************************************\n",
      "* 1  = Average transactions of any user and of all users                  *\n",
      "* 2  = Mode of transactions of any user and that of all users             *\n",
      "* 3  = Median of all transactions of a user and that of all users         *\n",
      "* 4  = Interquartile range of any user’s transactions and of all users    *\n",
      "* 5  = Location centroid of any user based on their transaction locations *\n",
      "* 6  = Computes the standard deviation of any specific user’s transaction *\n",
      "* 7  = the transaction is fraudulent or not with details                  *\n",
      "* 8  = Abnormal transaction for any given user                            *\n",
      "* 9  = Z-score of any user’s transactions and for all users’ transactions *\n",
      "* 10 = Computes the frequencies of transactions at any given location     *\n",
      "* 11 = Outlier of any location and of any user                            *\n",
      "* 12 = Nth percentiles of transactions of any user and of all users       *\n",
      "* 0  = Back                                                               *\n",
      "***************************************************************************\n"
     ]
    },
    {
     "name": "stdin",
     "output_type": "stream",
     "text": [
      "Welcome to the Statistics module. Please select the desired function : 6\n",
      "Please enter the user ID or enter 0 to return total information separately for each user:  123123\n"
     ]
    },
    {
     "name": "stdout",
     "output_type": "stream",
     "text": [
      "Error:  division by zero\n",
      "***************************************************************************\n",
      "* 1  = Average transactions of any user and of all users                  *\n",
      "* 2  = Mode of transactions of any user and that of all users             *\n",
      "* 3  = Median of all transactions of a user and that of all users         *\n",
      "* 4  = Interquartile range of any user’s transactions and of all users    *\n",
      "* 5  = Location centroid of any user based on their transaction locations *\n",
      "* 6  = Computes the standard deviation of any specific user’s transaction *\n",
      "* 7  = the transaction is fraudulent or not with details                  *\n",
      "* 8  = Abnormal transaction for any given user                            *\n",
      "* 9  = Z-score of any user’s transactions and for all users’ transactions *\n",
      "* 10 = Computes the frequencies of transactions at any given location     *\n",
      "* 11 = Outlier of any location and of any user                            *\n",
      "* 12 = Nth percentiles of transactions of any user and of all users       *\n",
      "* 0  = Back                                                               *\n",
      "***************************************************************************\n"
     ]
    },
    {
     "name": "stdin",
     "output_type": "stream",
     "text": [
      "Welcome to the Statistics module. Please select the desired function : 7\n",
      "Please enter the transaction ID : 0\n"
     ]
    },
    {
     "name": "stdout",
     "output_type": "stream",
     "text": [
      "transaction id not found\n",
      "***************************************************************************\n",
      "* 1  = Average transactions of any user and of all users                  *\n",
      "* 2  = Mode of transactions of any user and that of all users             *\n",
      "* 3  = Median of all transactions of a user and that of all users         *\n",
      "* 4  = Interquartile range of any user’s transactions and of all users    *\n",
      "* 5  = Location centroid of any user based on their transaction locations *\n",
      "* 6  = Computes the standard deviation of any specific user’s transaction *\n",
      "* 7  = the transaction is fraudulent or not with details                  *\n",
      "* 8  = Abnormal transaction for any given user                            *\n",
      "* 9  = Z-score of any user’s transactions and for all users’ transactions *\n",
      "* 10 = Computes the frequencies of transactions at any given location     *\n",
      "* 11 = Outlier of any location and of any user                            *\n",
      "* 12 = Nth percentiles of transactions of any user and of all users       *\n",
      "* 0  = Back                                                               *\n",
      "***************************************************************************\n"
     ]
    },
    {
     "name": "stdin",
     "output_type": "stream",
     "text": [
      "Welcome to the Statistics module. Please select the desired function : 7\n",
      "Please enter the transaction ID : 500009\n"
     ]
    },
    {
     "name": "stdout",
     "output_type": "stream",
     "text": [
      "false\n",
      "The transaction is not fraudulent\n",
      " User ID : 21  Transaction ID : 500009  Description : STAPLES  Amount : 66.92  X Coordinate : 838.0  Y Coordinate : 990.0\n",
      "***************************************************************************\n",
      "* 1  = Average transactions of any user and of all users                  *\n",
      "* 2  = Mode of transactions of any user and that of all users             *\n",
      "* 3  = Median of all transactions of a user and that of all users         *\n",
      "* 4  = Interquartile range of any user’s transactions and of all users    *\n",
      "* 5  = Location centroid of any user based on their transaction locations *\n",
      "* 6  = Computes the standard deviation of any specific user’s transaction *\n",
      "* 7  = the transaction is fraudulent or not with details                  *\n",
      "* 8  = Abnormal transaction for any given user                            *\n",
      "* 9  = Z-score of any user’s transactions and for all users’ transactions *\n",
      "* 10 = Computes the frequencies of transactions at any given location     *\n",
      "* 11 = Outlier of any location and of any user                            *\n",
      "* 12 = Nth percentiles of transactions of any user and of all users       *\n",
      "* 0  = Back                                                               *\n",
      "***************************************************************************\n"
     ]
    },
    {
     "name": "stdin",
     "output_type": "stream",
     "text": [
      "Welcome to the Statistics module. Please select the desired function : 8\n",
      "Please enter the user ID:  26\n"
     ]
    },
    {
     "name": "stdout",
     "output_type": "stream",
     "text": [
      "[{'user_id': '26', 'transaction_id': '500650', 'description_transaction': 'CIKUIT CITY', 'amount_transaction': '827.08', 'x_coordinate': '392.0', 'y_coordinate': '235.0', 'isfraudulent': 'true'}, {'user_id': '26', 'transaction_id': '500652', 'description_transaction': 'CIKUIT CITY', 'amount_transaction': '832.73', 'x_coordinate': '175.0', 'y_coordinate': '312.0', 'isfraudulent': 'true'}, {'user_id': '26', 'transaction_id': '500653', 'description_transaction': 'FAMOUS AND BOLD', 'amount_transaction': '799.68', 'x_coordinate': '278.0', 'y_coordinate': '109.0', 'isfraudulent': 'true'}, {'user_id': '26', 'transaction_id': '500654', 'description_transaction': 'CANADIAN PHARMACY', 'amount_transaction': '809.07', 'x_coordinate': '196.0', 'y_coordinate': '173.0', 'isfraudulent': 'true'}, {'user_id': '26', 'transaction_id': '500655', 'description_transaction': 'EXPRESS FREEDOM', 'amount_transaction': '820.55', 'x_coordinate': '201.0', 'y_coordinate': '216.0', 'isfraudulent': 'true'}, {'user_id': '26', 'transaction_id': '500656', 'description_transaction': 'DIAMOND AAA', 'amount_transaction': '804.69', 'x_coordinate': '117.0', 'y_coordinate': '192.0', 'isfraudulent': 'true'}, {'user_id': '26', 'transaction_id': '500657', 'description_transaction': 'USAIRWAY', 'amount_transaction': '756.19', 'x_coordinate': '143.0', 'y_coordinate': '158.0', 'isfraudulent': 'true'}, {'user_id': '26', 'transaction_id': '500658', 'description_transaction': 'coffee YYY', 'amount_transaction': '770.36', 'x_coordinate': '109.0', 'y_coordinate': '240.0', 'isfraudulent': 'true'}, {'user_id': '26', 'transaction_id': '500659', 'description_transaction': 'SCTY XXX', 'amount_transaction': '769.15', 'x_coordinate': '125.0', 'y_coordinate': '287.0', 'isfraudulent': 'true'}]\n",
      "***************************************************************************\n",
      "* 1  = Average transactions of any user and of all users                  *\n",
      "* 2  = Mode of transactions of any user and that of all users             *\n",
      "* 3  = Median of all transactions of a user and that of all users         *\n",
      "* 4  = Interquartile range of any user’s transactions and of all users    *\n",
      "* 5  = Location centroid of any user based on their transaction locations *\n",
      "* 6  = Computes the standard deviation of any specific user’s transaction *\n",
      "* 7  = the transaction is fraudulent or not with details                  *\n",
      "* 8  = Abnormal transaction for any given user                            *\n",
      "* 9  = Z-score of any user’s transactions and for all users’ transactions *\n",
      "* 10 = Computes the frequencies of transactions at any given location     *\n",
      "* 11 = Outlier of any location and of any user                            *\n",
      "* 12 = Nth percentiles of transactions of any user and of all users       *\n",
      "* 0  = Back                                                               *\n",
      "***************************************************************************\n"
     ]
    },
    {
     "name": "stdin",
     "output_type": "stream",
     "text": [
      "Welcome to the Statistics module. Please select the desired function : 9\n",
      "Please enter the user ID or enter 0 for all information:  0\n"
     ]
    },
    {
     "name": "stdout",
     "output_type": "stream",
     "text": [
      "[-0.5037729225856821, -0.447333233096742, -0.4654934417256902, -0.48749403693969856, -0.5448666138582079, -0.4575328023266992, -0.48744739256822006, -0.4611555151781932, -0.44792406180213584, -0.4565532705256515, -0.4789892132067921, -0.5300492518518829, -0.43774004069600486, -0.4753975966029505, -0.46376759998098716, -0.5352734214574706, -0.5054365718350805, -0.505980756168996, -0.46462274679142557, -0.44329072090194194, -0.4844932490412508, -0.48984180363744784, -0.4814769130189769, -0.42789807831404914, -0.5010830971637574, -0.48212993421967526, -0.48792938440683087, -0.4621194988554147, -0.5037418263380298, -0.502855583279939, -0.5092614102963146, -0.5186058327158333, -0.5266131164863027, -0.468089978404658, -0.48562826208056, -0.4997770547623604, -0.46197956574097937, -0.46202621011245787, -0.463860888723944, -0.5364861751159107, -0.4732208592672889, -0.4612954482926286, -0.5552683086979051, -0.530577888061972, -0.4223318499842859, -0.4061462530812593, -0.4589943259663577, -0.4386418318779218, -0.47440251667807665, -0.4319561386326754, -0.4386107356302695, -0.5218398424716734, -0.4576882835649608, -0.43347985476763856, -0.5172375978191317, -0.4948172032618172, -0.47482231602138275, -0.46048694585366856, -0.41668788103539195, -0.49281149528824325, -0.521995323709935, -0.48387132408820455, -0.4429642103015927, -0.463254511894724, -0.4645294580484686, -0.4502873766237114, -0.5001968541056666, -0.49405534519433564, -0.49279594716441716, -0.43335546977702927, -0.5401866285865354, -0.45689532924982695, -0.4556359312199084, -0.48180342361932604, -0.481896712362283, -0.5483493935952665, -0.5058097268069083, -0.5110338964124962, -0.48828699125483244, -0.5129618637669393, -0.5135682405961592, -0.4298726900399708, -0.4573306767169592, -0.4953458394719064, -0.48764951817796004, -0.44649363441012974, -0.4755686259650382, -0.48780499941622163, -0.515154149226427, -0.44601164257151893, -0.45524722812425455, -0.5088416109530084, -0.49795792427470037, -0.5150453123596439, -0.4893598117988371, -0.4845243452889031, -0.4319872348803277, -0.45361467512250836, -0.5123554869377193, -0.4929514284026787, 5.724478971571375, 5.580860951789187, 5.868221376344171, 5.717871018945259, 5.4641722824739, 5.621457103099276, 5.434164403489422, 5.7689932500856544, 5.561923336968932, 5.526380325902343, -0.5307333693002336, -0.528665468831355, -0.5533092450958096, -0.5018138589835867, -0.45392563759903143, -0.5375434475360892, -0.4271517683703938, -0.47847612512052906, -0.5071313173321315, -0.4788181838447044, -0.47294099303841813, -0.5074422798086545, -0.4293440538298815, -0.45691087737365305, -0.4783517401299199, -0.5082663303714408, -0.4559468936964315, -0.5359575389058214, -0.41547512737695186, -0.4926093696785033, -0.512324390690067, -0.45893213347105316, -0.4699246570161442, -0.49170757849658636, -0.4520909589875452, -0.5152318898455578, -0.5084840041050068, -0.4856749064520385, -0.4728477042954612, -0.5067737104841299, -0.4682454596429196, -0.4680122377855272, -0.5057319861877775, -0.5077065979136991, -0.501844955231239, -0.4858925801856046, -0.5142212617968578, -0.4918008672395433, -0.4859703208047354, -0.4589943259663577, -0.4953613875957326, -0.5181549371248748, -0.5113915032604978, -0.4752265672408629, -0.4798754562648829, -0.501844955231239, -0.44557629510438657, -0.5411350641399308, -0.46799668966170105, -0.5077843385328299, -0.43159853178467383, -0.4826119260582861, -0.44958771105153444, -0.44744206996352515, -0.5050478687394268, -0.44848379425987744, -0.4956723500722557, -0.4823787042008938, -0.45532496874338535, -0.5380409874985261, -0.47636158028017206, -0.5005233647060159, -0.5005078165821897, -0.49564125382460344, -0.5478363055090033, -0.507597761046916, -0.48495969275603545, -0.5382897574797445, -0.4531015870362453, -0.49293588027885255, -0.5019226958503697, -0.4901838623616232, -0.45008525101397134, -0.4631923193994194, -0.43607639144660626, -0.4481572836595282, -0.5058719193022129, -0.4515312265298037, -0.4435705871308127, -0.440678636099148, -0.4863123795289109, -0.41032869839049485, -0.5158227185509516, -0.508204137876136, -0.4295772756872739, -0.46519802737299326, -0.49133442352475865, -0.44713110748700197, -0.48122814303775835, -0.5115625326225853, -0.4945684332805987, -0.5162269697704316, -0.48959303365622936, -0.4532570682745068, -0.5019071477265435, -0.49413308581346643, -0.5277636776494381, -0.4839646128311615, -0.5118890432229346, -0.4678101121757872, 5.638389009945958, 5.424975462308165, 5.387209069534436, 5.403239185199201, 5.893689203171412, 5.791242615280882, 5.570086101977663, 5.429795380694273, 5.683556309660937, 5.589194746160007, -0.4012952384474992, -0.4629901937896794, -0.5328634622644168, -0.443399557768725, -0.46379869622863945, -0.45195102587310987, -0.4049334994228193, -0.4966829781209557, -0.5159781997892132, -0.4581391791559193, -0.42988823816379695, -0.4243375579578599, -0.48628128328125847, -0.438361965649051, -0.3967085419187837, -0.4824253485723723, -0.46641078103143335, -0.4431507877875065, -0.47676583149965207, -0.43547001461738627, -0.5230992405015918, -0.46799668966170105, -0.4561023749346931, -0.4596007027955778, -0.4774810451956552, -0.5107540301836253, -0.43371307662503084, -0.469100606453358, -0.4474887143350036, -0.439870133660188, -0.4096134846944917, -0.44935448919414206, -0.529567260013272, -0.48797602877830937, -0.41726316161695964, -0.47258338619041657, -0.4765326096422598, -0.4628036163037656, -0.4280069151808323, -0.4989530041995743, -0.5263798946289104, -0.4679811415378749, -0.45862117099453, -0.45258849894998215, -0.4919408003539787, -0.43562549585564786, -0.45313268328389755, -0.42186540626950125, -0.4534436457604206, -0.4560246343155623, -0.49058811358110327, -0.4822698673341107, -0.5231925292445487, -0.4863434757765631, -0.4891732343129232, -0.4617618920074132, -0.46656626226969483, -0.4593363846905331, -0.5388183936898339, -0.5091836696771838, -0.45821691977504997, -0.451562322777456, -0.41710768037869805, -0.45757944669817774, -0.45406557071346687, -0.48601696517621384, -0.518978987687661, -0.44159597540489104, -0.47214803872328426, -0.4375379150862649, -0.4906814023240601, -0.5595595908739236, -0.49232950344963256, -0.417698509084092, -0.45845014163244235, -0.4890954936937924, -0.5087327740862253, -0.46656626226969483, -0.5220886124528918, -0.4914743566391941, -0.4484682461360513, -0.4798288118934045, -0.41043753525727794, -0.46218169135071935, -0.4389372462306187, -0.4497742885374483, -0.4586989116136608, -0.5273594264299581, -0.4743092279351197, -0.44089630983271416, -0.49823779050357114, -0.45868336348983463, -0.40824524979779014, -0.42979494942084, -0.46368985936185636, -0.49775579866496034, -0.471619402513195, -0.46532241236360256, -0.4984865604847896, -0.470002397635275, 0.6932926789137625, 1.0744549345119345, 0.8084731802179134, 0.9640166109747609, 0.9353303225155062, 0.9818036646318813, 0.9257215819909429, 0.7798801805016156, 1.1198243598366528, 0.875952037623423, -0.4999636322482743, -0.41962647643853507, -0.42551921536864756, -0.4531171351600714, -0.4665507141458687, -0.4503962134904944, -0.43054125936449544, -0.4645450061722949, -0.45649107803034694, -0.4981445017606142, -0.45321042390302835, -0.4540500225896407, -0.42631216968378144, -0.44033657737497256, -0.42217636874602443, -0.45701971424043614, -0.49467727014738183, -0.4635654743712471, -0.4731742148958104, -0.49540803196721106, -0.4741071023253797, -0.463658763114204, -0.40393841949794546, -0.4941797301849448, -0.4532570682745068, -0.5066804217411729, -0.4644672655531641, -0.45818582352739773, -0.5001968541056666, -0.4614042851594116, -0.4704221969785811, -0.44385045335968343, -0.4740915542015536, -0.42555031161629986, -0.5114225995081499, -0.4774810451956552, -0.44386600148350963, -0.48541058834699385, -0.5233324623589841, -0.4572995804693069, -0.442388929720025, -0.5107695783074515, -0.4713395362843243, -0.4752576634885151, -0.4726455786857212, -0.42988823816379695, -0.47154166189406427, -0.4863434757765631, -0.49405534519433564, -0.5179217152674825, -0.46120215954967164, -0.4861879945383016, -0.415086424281298, -0.48346707286872453, -0.45384789697990074, -0.4243375579578599, -0.4314585986702385, -0.4344438384448601, -0.4903393435998848, -0.3892920868537081, -0.5301580887186659, -0.4688673845959657, -0.4979112799032219, -0.4519043815016314, -0.4590409703378362, -0.45855897849922544, -0.4211346444496721, -0.49994808412444813, -0.460735715834887, -0.465369056735081, -0.44565403572351736, -0.42696519088447993, -0.45653772240182533, -0.5198185863742733, -0.4471932999823066, -0.47825845138696294, -0.4955790613292988, -0.474837864145209, -0.4476597436970913, -0.4989063598280958, -0.4607046195872347, -0.4919408003539787, -0.43875066874470486, -0.4768280239949567, -0.49845546423713727, -0.4685408739956165, -0.4900283811233617, -0.4381131956678326, -0.47388942859181354, -0.4817723273716738, -0.4569264254974792, -0.5237056173308119, -0.5044414919102067, -0.4100177359139717, -0.46739031283248106, -0.44280872906333113, -0.43075893309806157, -0.4546563994188607, -0.5559990705177343, -0.47533540410764585, 0.9908837689463554, 1.155522852141503, 0.8371750168009942, 1.041741681981706, 0.9963256122855094, 1.0669140944562499, 0.9141848741119363, 0.8850165938140709, 1.0245454570299795, 0.9631770122881484, -0.44200022662437116, -0.45726848422165467, -0.3781596301941816, -0.4409585023280188, -0.4547341400379914, -0.39796793994870217, -0.4106707571146702, -0.422844938070549, -0.387768370718745, -0.43212716799476314, -0.45700416611661, -0.4601604352533193, -0.44649363441012974, -0.45423660007555455, -0.43736688572417715, -0.42174102127889207, -0.43197168675650155, -0.40620844557656394, -0.423948854862206, -0.4226894568322875, -0.4392637568309679, -0.43671386452347866, -0.3882659106811819, -0.4242287210910768, -0.4264210065505645, -0.35846015730644415, -0.4269496427606538, -0.45215315148284985, -0.4422179003579373, -0.4433529133972466, -0.4593363846905331, -0.43867292812557407, -0.4291730244677939, -0.4405076067370603, -0.4233580261568122, -0.35940859285983956, -0.4099710915424933, -0.4588388447280962, -0.4152885498910381, -0.43343321039616006, -0.42533263788273373, -0.41821159717035505, -0.4026323770965484, -0.440880761708888, -0.441891389757588, -0.44804844679274514, -0.4537235119892914, -0.478973665082966, -0.3929925403243328, -0.4431507877875065, -0.4266386802841307, -0.47738775645269826, -0.4272450571133507, -0.43430390533042473, -0.4175430278458304, -0.39843438366348677, -0.44215570786263264, -0.4301059118973631, -0.4021659333817639, -0.4255036672448214, -0.38493861218238484, -0.4415182347857603, -0.415988215463215, -0.441689264147848, -0.4041560932315116, -0.4709508331886704, -0.4088671747508363, -0.46807443028083184, -0.4428242771871573, -0.5005544609536682, -0.3989785679974022, -0.4666284547649995, -0.4836536503546384, -0.4595540584240993, -0.3998959073031453, -0.3912511504558035, -0.3999270035507976, -0.4695515020443165, -0.4474887143350036, -0.4442547045791635, -0.42567469660690915, -0.4267786133985661, -0.4029588876968977, -0.46141983328323777, -0.4155062236246042, -0.4831716585160276, -0.44943222981327285, -0.4495255185562298, -0.4205904601157566, -0.42575243722603984, -0.42413543234811985, -0.4825963779344599, -0.501751666488282, -0.4306189999836261, -0.39840328741583453, -0.4359209102083448, -0.4181805009227027, -0.4333088254055509, -0.4612643520449763, -0.4237311811286399, 0.7533239850065442, 0.6598175683160522, 0.7541946799408088, 0.6604550413929247, 0.6813983641867544, 0.5592678515323125, 0.8419638389394498, 0.7358167975782943, 0.5995219441182259, 0.6157386372689049, -0.42343576677594286, -0.4974292880646111, -0.41601931171086726, -0.4402899330034941, -0.3945318045831221, -0.47723227521443673, -0.35427771199720864, -0.4249283866632537, -0.45258849894998215, -0.41329839004129026, -0.4309766068316277, -0.48427557530768456, -0.46434288056255485, -0.4328112854431139, -0.426265525312303, -0.4447056001701219, -0.4236534405095091, -0.455698123715213, -0.4254259266256906, -0.45628895242060685, -0.42786698206639684, -0.435236792759994, -0.45877665223279157, -0.4496809997944913, -0.3616319745669796, -0.37972999070062324, -0.43683824951408784, -0.43797326255339714, -0.4176829609602658, -0.42298487118498446, -0.4009220834756715, -0.42385556611924907, -0.4438815496073358, -0.4711374106745842, -0.44573177634264816, -0.43829977315374646, -0.48130588365688914, -0.4234668630235952, -0.48066841058001686, -0.4714328250272811, -0.42514606039681985, -0.4621972394745455, -0.42623442906465064, -0.4900283811233617, -0.47154166189406427, -0.40269456959185307, -0.46697051348917484, -0.43122537681284623, -0.47046884135005956, -0.4755997222126905, -0.39840328741583453, -0.465773307954561, -0.45373906011311754, -0.39052038863597427, -0.41636137043504273, -0.4207459413540182, -0.3698413839471891, -0.45072272409084363, -0.42352905551889986, -0.41925332146670746, -0.44302640279689726, -0.4503029247475375, -0.42001517953418893, -0.46459165054377327, -0.4064105711863039, -0.4519199296254576, -0.4538012526084222, -0.3960244244704329, -0.409442455332404, -0.46157531452149936, -0.39633538694695597, -0.42076148947784436, -0.4485148905075297, -0.4455296507329081, -0.40274121396333157, -0.43054125936449544, -0.4751488266217321, -0.4376001075815694, -0.4889089162078786, -0.43335546977702927, -0.468089978404658, -0.44083411733740957, -0.46477822802968716, -0.41702993975956726, -0.4045292482033393, -0.46524467174447176, -0.43506576339790626, -0.3971905337573945, -0.4240732398528152, -0.4439126458549881, -0.4209480669637582, -0.4497898366612744, -0.40358081264994383, -0.41657904416860886, -0.45069162784319133, -0.42178766565037057, -0.44464340767481736, -0.3960088763466067, -0.43917046808801097, -0.44207796724350185, 0.7253529102432926, 0.4607860352174512, 0.7341376002050698, 0.6827510509596297, 0.6973507392323888, 0.7151999853848138, 0.6905406609965332, 0.6151322604396849, 0.6371639519013454, 0.6352826289183807, -0.2745624811405156, -0.30178724596011175, -0.23584765281339143, -0.1711519095727635, -0.2456585189476948, -0.278029712753748, -0.2636010538430768, -0.29618992138269623, -0.26224836707020144, -0.2695248890208416, -0.2713906638799802, -0.27617948601843567, -0.23278467241963904, -0.2575061893032244, -0.31763078413896295, -0.28081282691862963, -0.25206434596407035, -0.2406209268280208, -0.30876835355805504, -0.3216422000861108, -0.22205646697959258, -0.25469197889069045, -0.23673389587148222, -0.3403776892966267, -0.22194763011280952, -0.2888512069367514, -0.20720800872561526, -0.3116603045897197, -0.23391968545894828, -0.27118853827024014, -0.2657000505596077, -0.21938218968149406, -0.22698522223248352, -0.25206434596407035, -0.24348178161203318, -0.23020368386449744, -0.28479314661812516, -0.24996534924753955, -0.2415538142575901, -0.23814877513966232, -0.2879338676310083, -0.21680120112635246, -0.18671558152274392, -0.18834813452449012, -0.22183879324602646, -0.23808658264435764, -0.27652154474261104, -0.24220683545828856, -0.2320539105998098, -0.26423852691994915, -0.281450299995502, -0.22252291069437724, -0.31881244154975075, -0.2416781992481993, -0.23942372129340694, -0.24304643414490087, -0.20440934643690747, -0.28634795900074056, -0.2378378126631392, -0.29180535046372075, -0.21633475741156785, -0.2963298544971316, -0.26846761660066315, -0.2137537688564262, -0.26067800656375983, -0.1759718279588713, -0.2371536952147884, -0.2963298544971316, -0.22438868555351574, -0.3069803193180473, -0.2511781029059796, -0.26221727082254914, -0.1825797805849869, -0.2803152869561927, -0.2590610016858398, -0.2834560079690759, -0.24851937373170718, -0.2938577028087731, -0.28504191659934364, -0.21283642955068313, -0.26671067860830766, -0.27053551706954165, -0.3076333405187458, -0.21774963667974787, -0.2854928121903021, -0.2452853639758671, -0.19738159446748574, -0.22978388452119125, -0.2096801604139738, -0.27097086453667396, -0.2317118518756344, -0.23521017973651911, -0.2335154342394683, -0.2726967062813771, -0.21465556003834316, -0.18683996651335316, -0.2010820479381105, -0.2503540523431934, -0.25632453189243665, -0.29238063104528844, 2.479196825957322, 2.656663111309047, 2.3549828647101756, 2.5858569554047404, 2.6218508620622876, 2.4655611213617847, 2.474952188152782, 2.491775258132681, 2.463384384026123, 2.471920304006682, -0.2991129686620132, -0.25472307513834275, -0.25094488104858725, -0.2266742597559604, -0.24040325309445465, -0.31694666669061217, -0.2049068863993444, -0.25455204577625506, -0.2538212839564258, -0.23640738527113303, -0.26053807344932445, -0.23514798724121452, -0.27697244033356955, -0.24928123179918876, -0.22934853705405894, -0.19888976247862272, -0.21851149474722942, -0.2357699121942607, -0.27809190524905264, -0.2575994780461813, -0.25377463958494734, -0.251022621667718, -0.25428772767121044, -0.23158746688502516, -0.2913389067489361, -0.18130483443124223, -0.2790247926786219, -0.27233909943337553, -0.2402788681038454, -0.28151249249080657, -0.2982422737277486, -0.2618441158507214, -0.23273802804816057, -0.22687638536570046, -0.2571952268267013, -0.22698522223248352, -0.2644406525296892, -0.223409153752468, -0.2997815379865379, -0.2944329833903408, -0.21179470525433078, -0.23558333470834683, -0.26277700328029063, -0.23381084859216522, -0.259682926638886, -0.22798030215735737, -0.3172576291671353, -0.2696026296399724, -0.20775219305953066, -0.2590299054381875, -0.21061304784354307, -0.22718734784222352, -0.2110017509391969, -0.22917750769197126, -0.27268115815755095, -0.2738317193206864, -0.23701376210035302, -0.21973979652949563, -0.2653424437116061, -0.28319168986403126, -0.24809957438840102, -0.2592164829241013, -0.27380062307303404, -0.2793668514027973, -0.2142668569426893, -0.22580356482169575, -0.19845441501149041, -0.23105883067493593, -0.23388858921129602, -0.29107458864389146, -0.22009740337749717, -0.27566639793217257, -0.2368738289859176, -0.2296128551591036, -0.2771901140671357, -0.2862235740101313, -0.21210566773085388, -0.25618459877800126, -0.2792113701645358, -0.24827060375048873, -0.24772641941657333, -0.22682974099422198, -0.26437846003438453, -0.23572326782278225, -0.2901727974619745, -0.21911787157644944, -0.2940287321708608, -0.3084262948338797, -0.22241407382759415, -0.23332885675355444, -0.26097342091645676, -0.24948335740892877, -0.23418400356399294, -0.2406209268280208, -0.27540207982712794, -0.26406749755786146, -0.2735363049679894, -0.29558354455347624, -0.2588122317046213, -0.2311054750464144, 2.7035873490163804, 2.4676134737068374, 2.645173047801519, 2.3003623057088953, 2.742022311114634, 2.308167463869625, 2.579031329045059, 2.41827927680645, 2.47936785531941, 2.5547296115047793, 0.34611862199956334, -0.2575994780461813, 2.0542821499123516, 0.3768572628038705, 0.2496891580297545, 0.5066219042569541, 0.9368073942789908, 1.2898119976279976, 1.7074190554746755, 0.9825655226993629, 0.7655292622100752, 0.4217446962899778, 0.5002938178597094, 0.8230106759953676, -0.16235167148716018, 0.20279601657007323, 1.0465926966154664, -0.3280480271024864, -0.22326922063803262, 0.20864211112870723, 1.2062563801862447, -0.011721447859377468, 0.5898043667268795, 1.777976441397764, -0.3578537804772241, 0.5955882687902089, 1.1016796993315308, 0.44915603859548797, 0.8826377308686694, 0.6645752942068555, 0.8392273691460467, 0.5659379966537326, -0.006854885101791184, -0.336879361435742, 1.5802198544529076, 0.61082543013984, 0.3047139682505145, 0.42207120689032707, 0.8742883883740244, 0.3002205604647559, -0.2817146181005466, 1.4167002361732428, 0.48533652273894895, 0.5211749481582345, 1.8735974029286127, 0.0029404329086860333, 1.4525697578401806, 1.3168035405902017, 1.0421148369535338, 0.3758777310028226, 1.3604315760463903, -0.4562423080491284, 1.2329836050434038, 1.7627392800481323, 0.1857241766089558, 0.7476644679338239, 0.7267522413876465, -0.3267419847010894, 0.7885560335966098, -0.5431563202373308, 1.4622406908600487, -0.023040482004817744, 0.22989639639906018, -0.06074468228324188, 1.6296162438485995, -0.5217310056048903, 0.8678203688623444, -0.5591864359020959, 0.18765214396339894, 0.3570800492970022, 0.5219523543495422, 0.9359056030970739, 0.09007211883045467, 1.6948406232993165, -0.40339423516403, 0.27131659827193505, -0.3558480725036502, -0.4928736877835479, 1.0417883263531844, 0.5612113670105817, -0.08426899363221331, 0.2992721249113605, 1.2000215825319565, 0.3961835807197802, 0.2416041336401544, 1.2331390862816654, -0.0546187214957371, 1.4205872671297815, 1.1856084717451116, 0.5897732704792272, 0.11249251338776918, -0.07494011933652074, -0.1803563988778468, -0.17970337767714833, 1.4894499075558187, 0.643554230793895, -0.4843066715553369, 0.32993302509653677, 1.519582171530906, 1.2014364618001367, 0.40495272255773124, 0.6361844201002977, 0.5310480067878425, 0.43419874347472753, 0.34450161712164334, 0.46552821298442837, 0.3917834616769785, 0.2508241710690638, 0.640226932295098, 0.36427883062851163, 1.2909314625434807, 1.6051590450700588, 1.3509472205124364, 2.1064927497205774, 0.2474968725702668, 0.12982867145393118, 0.21758228232874594, 0.007076233846443112, 0.47888405135109474, -0.3734951930463353, -0.2662442348935231, 1.919371079472811, -0.02210759457524854, -0.06882970667284209, 0.7270010113688649, 1.4341763273538404, 0.5359456657930811, 0.9640321590985871, 0.5706335300492313, 0.2896944806344495, -0.3658299680000413, 0.9886448391153891, 2.080200872330551, 0.7452700568645961, 1.06165882860301, 0.3804644275315382, 0.9262346700772058, 0.1566025406825688, 0.7893023435402652, 0.8435341994458914, 0.046024284030959615, -0.5224928636723718, 0.6992009659677011, 0.21329100015272737, 1.9369871037678437, 0.33024398757305995, 0.9601606762658746, 1.667475925365285, -0.3830572891994202, 0.8922153751455804, 1.736012055190973, -0.3549929256932117, 1.04354526434554, 0.021458248385635825, 1.7885491655995491, 0.3582461585839638, 2.521114567792634, -0.2437150034694255, 1.3408875843969146, 0.8686444194251305, 1.4182550485558583, 0.25276768654733306, 0.48496336776712123, 0.4927218815563722, -0.19937175431723347, 0.7389575185911776, 0.3249887217198198, 1.4931503610264436, 1.3305947264240003, 0.2496891580297545, 0.2813606862636308, 0.32540852106312596, 0.41028572903010224, 0.8875042936262556, 0.31785213288361497, 0.7163039021764708, 1.389910818820779, 0.651126167097232, -0.23309563489616217, 0.1462474902143501, -0.2224296219514203, -0.480683958703843, 0.8697327880929613, 0.9482197171673881, 1.3307191114146097, -0.5154340154552978, 0.6104522751680124, 0.0492271975391474, 0.886338184339294, 0.4824445717072842, -0.2915721286063284, 0.5932405020924596, -0.19609110018991494, 0.8941277943761973, 1.619463318990121, 2.403897262267257, -0.385855951488128, 0.7422692689661485, 0.005272651482609176, -0.288104896993096, 0.7763663045169048, 0.785570793821988, 2.3124742941694696, 0.6542668881101152, 0.6975217685944763, 0.23165333439141558, 1.3612711747330026, 1.2112784241820922, 1.8965775299436682, 0.13900206451136216, 0.5154998829616882, 0.6693019238500063, 0.5425069740477182, 0.5903485510607949, 0.9126767061007993, 0.17709496788544016, 0.6213359618463203, 0.7071149609952136, 0.6285502913016561, 0.6867158225352992]\n",
      "***************************************************************************\n",
      "* 1  = Average transactions of any user and of all users                  *\n",
      "* 2  = Mode of transactions of any user and that of all users             *\n",
      "* 3  = Median of all transactions of a user and that of all users         *\n",
      "* 4  = Interquartile range of any user’s transactions and of all users    *\n",
      "* 5  = Location centroid of any user based on their transaction locations *\n",
      "* 6  = Computes the standard deviation of any specific user’s transaction *\n",
      "* 7  = the transaction is fraudulent or not with details                  *\n",
      "* 8  = Abnormal transaction for any given user                            *\n",
      "* 9  = Z-score of any user’s transactions and for all users’ transactions *\n",
      "* 10 = Computes the frequencies of transactions at any given location     *\n",
      "* 11 = Outlier of any location and of any user                            *\n",
      "* 12 = Nth percentiles of transactions of any user and of all users       *\n",
      "* 0  = Back                                                               *\n",
      "***************************************************************************\n"
     ]
    },
    {
     "name": "stdin",
     "output_type": "stream",
     "text": [
      "Welcome to the Statistics module. Please select the desired function : 9\n",
      "Please enter the user ID or enter 0 for all information:  26\n"
     ]
    },
    {
     "name": "stdout",
     "output_type": "stream",
     "text": [
      "[-0.2757858483323004, -0.509353767647046, -0.2523750692793201, -0.3289877026162223, -0.18454761298745653, -0.44559988506880377, -0.057481560643292656, -0.2804974516637178, -0.3678093508990472, -0.24378620903975703, -0.29958926099623223, -0.4678327632889298, -0.4049132271339595, -0.3053806067577662, -0.2847182629814459, -0.34292619580499883, -0.27647295715146547, -0.3776251911728335, -0.28206798610752365, -0.3794902008248529, -0.2897734207224459, -0.31303696217131954, -0.387342873043882, -0.358631540243057, -0.08069602289079726, -0.13782421328423367, -0.3180921199123195, -0.32167490161225143, -0.2576265438257957, -0.27436255149260136, -0.20471916475008742, -0.27711098676926155, -0.34032499813244554, -0.4263608381321827, -0.34616542309534837, -0.32270556484099905, -0.4584586358274639, -0.27588400673503827, -0.4564463885713377, -0.4272933429581923, -0.2811845604828829, -0.39814029734504697, -0.2846201045787081, -0.4859920677954345, -0.4276368973677748, -0.21031419370614562, -0.41320761216530894, -0.3003745282181352, -0.42425043247331856, -0.44044656892506595, -0.19676833412832057, -0.4094285136599012, -0.3714412118003481, -0.1718851790342722, -0.25345481170943657, -0.26729514649547526, -0.10660984121359315, -0.3619198467347754, -0.27608032354051404, -0.26258354316405785, -0.33762564205715423, -0.36059470829781426, -0.26498842403113543, -0.4056984943558624, -0.22204412283332028, -0.3656989452401831, -0.3716375286058239, -0.18925921631887402, -0.23161456710026196, -0.3961771292902897, -0.1902408003462526, -0.2673442256968442, -0.3549506001403871, -0.34552739347755224, -0.21046143131025244, -0.2982150433579021, -0.4390232720853669, -0.32049700077939713, -0.48245836529687147, -0.30709837880567875, -0.416741314663872, -0.3307054746641349, -0.4062874447722896, -0.25556521736830057, -0.2161055394676796, -0.40775982081335754, -0.31249709095626127, -0.19294015642154388, -0.2777980955884266, -0.34042315653518335, -0.2679331761132714, -0.35897509465263955, -0.21311170818417477, -0.2541419205286016, -0.36182168833203754, -0.27058345298719366, -0.3427298789995232, -0.18921013711750506, -0.32545400011765924, -0.3346318107736494, 3.3504800240125814, 2.5153483335188405, 3.378209772786027, 3.2160030122617083, 3.2620883823471356, 3.318431305518668, 3.240591692147543, 3.0025575655082246, 3.0721027938480012, 3.06616421048236]\n",
      "***************************************************************************\n",
      "* 1  = Average transactions of any user and of all users                  *\n",
      "* 2  = Mode of transactions of any user and that of all users             *\n",
      "* 3  = Median of all transactions of a user and that of all users         *\n",
      "* 4  = Interquartile range of any user’s transactions and of all users    *\n",
      "* 5  = Location centroid of any user based on their transaction locations *\n",
      "* 6  = Computes the standard deviation of any specific user’s transaction *\n",
      "* 7  = the transaction is fraudulent or not with details                  *\n",
      "* 8  = Abnormal transaction for any given user                            *\n",
      "* 9  = Z-score of any user’s transactions and for all users’ transactions *\n",
      "* 10 = Computes the frequencies of transactions at any given location     *\n",
      "* 11 = Outlier of any location and of any user                            *\n",
      "* 12 = Nth percentiles of transactions of any user and of all users       *\n",
      "* 0  = Back                                                               *\n",
      "***************************************************************************\n"
     ]
    },
    {
     "name": "stdin",
     "output_type": "stream",
     "text": [
      "Welcome to the Statistics module. Please select the desired function : 10\n",
      "Please enter the x coordinate:  1\n",
      "Please enter the y coordinate:  2\n"
     ]
    },
    {
     "name": "stdout",
     "output_type": "stream",
     "text": [
      "0.0\n",
      "***************************************************************************\n",
      "* 1  = Average transactions of any user and of all users                  *\n",
      "* 2  = Mode of transactions of any user and that of all users             *\n",
      "* 3  = Median of all transactions of a user and that of all users         *\n",
      "* 4  = Interquartile range of any user’s transactions and of all users    *\n",
      "* 5  = Location centroid of any user based on their transaction locations *\n",
      "* 6  = Computes the standard deviation of any specific user’s transaction *\n",
      "* 7  = the transaction is fraudulent or not with details                  *\n",
      "* 8  = Abnormal transaction for any given user                            *\n",
      "* 9  = Z-score of any user’s transactions and for all users’ transactions *\n",
      "* 10 = Computes the frequencies of transactions at any given location     *\n",
      "* 11 = Outlier of any location and of any user                            *\n",
      "* 12 = Nth percentiles of transactions of any user and of all users       *\n",
      "* 0  = Back                                                               *\n",
      "***************************************************************************\n"
     ]
    },
    {
     "name": "stdin",
     "output_type": "stream",
     "text": [
      "Welcome to the Statistics module. Please select the desired function : 11\n",
      "Please enter the user ID or enter 0 for total information separately for each user:  0\n"
     ]
    },
    {
     "name": "stdout",
     "output_type": "stream",
     "text": [
      "User ID :  21  outliers x :   [68.0, 91.0, 133.0, 144.0, 163.0, 173.0, 184.0, 189.0, 191.0, 199.0]  outliers y :   [51.0, 57.0, 81.0, 96.0, 121.0, 126.0, 127.0, 131.0, 154.0, 191.0]\n",
      "User ID :  22  outliers x :   [58.0, 65.0, 80.0, 95.0, 136.0, 166.0, 183.0, 192.0, 194.0, 195.0]  outliers y :   [61.0, 92.0, 101.0, 118.0, 139.0, 160.0, 172.0, 185.0, 194.0, 195.0]\n",
      "User ID :  23  outliers x :   [105.0, 111.0, 115.0]  outliers y :   []\n",
      "User ID :  24  outliers x :   [105.0, 156.0]  outliers y :   [140.0, 237.0]\n",
      "User ID :  25  outliers x :   [101.0, 117.0, 154.0, 159.0, 187.0, 204.0, 244.0, 313.0, 315.0]  outliers y :   [100.0, 103.0, 143.0, 158.0, 210.0, 251.0, 269.0, 278.0, 280.0]\n",
      "User ID :  26  outliers x :   [109.0, 117.0, 125.0, 143.0, 154.0, 175.0, 196.0, 201.0, 278.0]  outliers y :   [109.0, 121.0, 158.0, 173.0, 192.0, 216.0, 235.0, 240.0, 287.0]\n",
      "User ID :  27  outliers x :   [608.0, 653.0, 677.0, 709.0, 709.0, 720.0, 743.0, 772.0, 782.0, 797.0]  outliers y :   [633.0, 696.0, 702.0, 729.0, 747.0, 752.0, 753.0, 795.0, 796.0]\n",
      "User ID :  28  outliers x :   [618.0, 620.0, 627.0, 639.0, 639.0, 683.0, 690.0, 691.0, 697.0, 779.0]  outliers y :   [637.0, 689.0, 727.0, 737.0, 739.0, 739.0, 765.0, 776.0, 783.0, 796.0]\n",
      "User ID :  29  outliers x :   [661.0, 671.0, 683.0]  outliers y :   [605.0, 646.0, 671.0]\n",
      "User ID :  30  outliers x :   [632.0, 636.0, 645.0, 649.0, 681.0, 698.0]  outliers y :   [649.0, 650.0]\n",
      "None\n",
      "***************************************************************************\n",
      "* 1  = Average transactions of any user and of all users                  *\n",
      "* 2  = Mode of transactions of any user and that of all users             *\n",
      "* 3  = Median of all transactions of a user and that of all users         *\n",
      "* 4  = Interquartile range of any user’s transactions and of all users    *\n",
      "* 5  = Location centroid of any user based on their transaction locations *\n",
      "* 6  = Computes the standard deviation of any specific user’s transaction *\n",
      "* 7  = the transaction is fraudulent or not with details                  *\n",
      "* 8  = Abnormal transaction for any given user                            *\n",
      "* 9  = Z-score of any user’s transactions and for all users’ transactions *\n",
      "* 10 = Computes the frequencies of transactions at any given location     *\n",
      "* 11 = Outlier of any location and of any user                            *\n",
      "* 12 = Nth percentiles of transactions of any user and of all users       *\n",
      "* 0  = Back                                                               *\n",
      "***************************************************************************\n"
     ]
    },
    {
     "name": "stdin",
     "output_type": "stream",
     "text": [
      "Welcome to the Statistics module. Please select the desired function : 11\n",
      "Please enter the user ID or enter 0 for total information separately for each user:  26\n"
     ]
    },
    {
     "name": "stdout",
     "output_type": "stream",
     "text": [
      "User ID:  26  Outliers X:  [109.0, 117.0, 125.0, 143.0, 154.0, 175.0, 196.0, 201.0, 278.0]  Outliers Y:  [109.0, 121.0, 158.0, 173.0, 192.0, 216.0, 235.0, 240.0, 287.0]\n",
      "None\n",
      "***************************************************************************\n",
      "* 1  = Average transactions of any user and of all users                  *\n",
      "* 2  = Mode of transactions of any user and that of all users             *\n",
      "* 3  = Median of all transactions of a user and that of all users         *\n",
      "* 4  = Interquartile range of any user’s transactions and of all users    *\n",
      "* 5  = Location centroid of any user based on their transaction locations *\n",
      "* 6  = Computes the standard deviation of any specific user’s transaction *\n",
      "* 7  = the transaction is fraudulent or not with details                  *\n",
      "* 8  = Abnormal transaction for any given user                            *\n",
      "* 9  = Z-score of any user’s transactions and for all users’ transactions *\n",
      "* 10 = Computes the frequencies of transactions at any given location     *\n",
      "* 11 = Outlier of any location and of any user                            *\n",
      "* 12 = Nth percentiles of transactions of any user and of all users       *\n",
      "* 0  = Back                                                               *\n",
      "***************************************************************************\n"
     ]
    },
    {
     "name": "stdin",
     "output_type": "stream",
     "text": [
      "Welcome to the Statistics module. Please select the desired function : 12\n",
      "Please enter the user ID or enter 0 for total information separately for each user:  0\n"
     ]
    },
    {
     "name": "stdout",
     "output_type": "stream",
     "text": [
      "[-0.5037729225856821, -0.447333233096742, -0.4654934417256902, -0.48749403693969856, -0.5448666138582079, -0.4575328023266992, -0.48744739256822006, -0.4611555151781932, -0.44792406180213584, -0.4565532705256515, -0.4789892132067921, -0.5300492518518829, -0.43774004069600486, -0.4753975966029505, -0.46376759998098716, -0.5352734214574706, -0.5054365718350805, -0.505980756168996, -0.46462274679142557, -0.44329072090194194, -0.4844932490412508, -0.48984180363744784, -0.4814769130189769, -0.42789807831404914, -0.5010830971637574, -0.48212993421967526, -0.48792938440683087, -0.4621194988554147, -0.5037418263380298, -0.502855583279939, -0.5092614102963146, -0.5186058327158333, -0.5266131164863027, -0.468089978404658, -0.48562826208056, -0.4997770547623604, -0.46197956574097937, -0.46202621011245787, -0.463860888723944, -0.5364861751159107, -0.4732208592672889, -0.4612954482926286, -0.5552683086979051, -0.530577888061972, -0.4223318499842859, -0.4061462530812593, -0.4589943259663577, -0.4386418318779218, -0.47440251667807665, -0.4319561386326754, -0.4386107356302695, -0.5218398424716734, -0.4576882835649608, -0.43347985476763856, -0.5172375978191317, -0.4948172032618172, -0.47482231602138275, -0.46048694585366856, -0.41668788103539195, -0.49281149528824325, -0.521995323709935, -0.48387132408820455, -0.4429642103015927, -0.463254511894724, -0.4645294580484686, -0.4502873766237114, -0.5001968541056666, -0.49405534519433564, -0.49279594716441716, -0.43335546977702927, -0.5401866285865354, -0.45689532924982695, -0.4556359312199084, -0.48180342361932604, -0.481896712362283, -0.5483493935952665, -0.5058097268069083, -0.5110338964124962, -0.48828699125483244, -0.5129618637669393, -0.5135682405961592, -0.4298726900399708, -0.4573306767169592, -0.4953458394719064, -0.48764951817796004, -0.44649363441012974, -0.4755686259650382, -0.48780499941622163, -0.515154149226427, -0.44601164257151893, -0.45524722812425455, -0.5088416109530084, -0.49795792427470037, -0.5150453123596439, -0.4893598117988371, -0.4845243452889031, -0.4319872348803277, -0.45361467512250836, -0.5123554869377193, -0.4929514284026787, 5.724478971571375, 5.580860951789187, 5.868221376344171, 5.717871018945259, 5.4641722824739, 5.621457103099276, 5.434164403489422, 5.7689932500856544, 5.561923336968932, 5.526380325902343, -0.5307333693002336, -0.528665468831355, -0.5533092450958096, -0.5018138589835867, -0.45392563759903143, -0.5375434475360892, -0.4271517683703938, -0.47847612512052906, -0.5071313173321315, -0.4788181838447044, -0.47294099303841813, -0.5074422798086545, -0.4293440538298815, -0.45691087737365305, -0.4783517401299199, -0.5082663303714408, -0.4559468936964315, -0.5359575389058214, -0.41547512737695186, -0.4926093696785033, -0.512324390690067, -0.45893213347105316, -0.4699246570161442, -0.49170757849658636, -0.4520909589875452, -0.5152318898455578, -0.5084840041050068, -0.4856749064520385, -0.4728477042954612, -0.5067737104841299, -0.4682454596429196, -0.4680122377855272, -0.5057319861877775, -0.5077065979136991, -0.501844955231239, -0.4858925801856046, -0.5142212617968578, -0.4918008672395433, -0.4859703208047354, -0.4589943259663577, -0.4953613875957326, -0.5181549371248748, -0.5113915032604978, -0.4752265672408629, -0.4798754562648829, -0.501844955231239, -0.44557629510438657, -0.5411350641399308, -0.46799668966170105, -0.5077843385328299, -0.43159853178467383, -0.4826119260582861, -0.44958771105153444, -0.44744206996352515, -0.5050478687394268, -0.44848379425987744, -0.4956723500722557, -0.4823787042008938, -0.45532496874338535, -0.5380409874985261, -0.47636158028017206, -0.5005233647060159, -0.5005078165821897, -0.49564125382460344, -0.5478363055090033, -0.507597761046916, -0.48495969275603545, -0.5382897574797445, -0.4531015870362453, -0.49293588027885255, -0.5019226958503697, -0.4901838623616232, -0.45008525101397134, -0.4631923193994194, -0.43607639144660626, -0.4481572836595282, -0.5058719193022129, -0.4515312265298037, -0.4435705871308127, -0.440678636099148, -0.4863123795289109, -0.41032869839049485, -0.5158227185509516, -0.508204137876136, -0.4295772756872739, -0.46519802737299326, -0.49133442352475865, -0.44713110748700197, -0.48122814303775835, -0.5115625326225853, -0.4945684332805987, -0.5162269697704316, -0.48959303365622936, -0.4532570682745068, -0.5019071477265435, -0.49413308581346643, -0.5277636776494381, -0.4839646128311615, -0.5118890432229346, -0.4678101121757872, 5.638389009945958, 5.424975462308165, 5.387209069534436, 5.403239185199201, 5.893689203171412, 5.791242615280882, 5.570086101977663, 5.429795380694273, 5.683556309660937, 5.589194746160007, -0.4012952384474992, -0.4629901937896794, -0.5328634622644168, -0.443399557768725, -0.46379869622863945, -0.45195102587310987, -0.4049334994228193, -0.4966829781209557, -0.5159781997892132, -0.4581391791559193, -0.42988823816379695, -0.4243375579578599, -0.48628128328125847, -0.438361965649051, -0.3967085419187837, -0.4824253485723723, -0.46641078103143335, -0.4431507877875065, -0.47676583149965207, -0.43547001461738627, -0.5230992405015918, -0.46799668966170105, -0.4561023749346931, -0.4596007027955778, -0.4774810451956552, -0.5107540301836253, -0.43371307662503084, -0.469100606453358, -0.4474887143350036, -0.439870133660188, -0.4096134846944917, -0.44935448919414206, -0.529567260013272, -0.48797602877830937, -0.41726316161695964, -0.47258338619041657, -0.4765326096422598, -0.4628036163037656, -0.4280069151808323, -0.4989530041995743, -0.5263798946289104, -0.4679811415378749, -0.45862117099453, -0.45258849894998215, -0.4919408003539787, -0.43562549585564786, -0.45313268328389755, -0.42186540626950125, -0.4534436457604206, -0.4560246343155623, -0.49058811358110327, -0.4822698673341107, -0.5231925292445487, -0.4863434757765631, -0.4891732343129232, -0.4617618920074132, -0.46656626226969483, -0.4593363846905331, -0.5388183936898339, -0.5091836696771838, -0.45821691977504997, -0.451562322777456, -0.41710768037869805, -0.45757944669817774, -0.45406557071346687, -0.48601696517621384, -0.518978987687661, -0.44159597540489104, -0.47214803872328426, -0.4375379150862649, -0.4906814023240601, -0.5595595908739236, -0.49232950344963256, -0.417698509084092, -0.45845014163244235, -0.4890954936937924, -0.5087327740862253, -0.46656626226969483, -0.5220886124528918, -0.4914743566391941, -0.4484682461360513, -0.4798288118934045, -0.41043753525727794, -0.46218169135071935, -0.4389372462306187, -0.4497742885374483, -0.4586989116136608, -0.5273594264299581, -0.4743092279351197, -0.44089630983271416, -0.49823779050357114, -0.45868336348983463, -0.40824524979779014, -0.42979494942084, -0.46368985936185636, -0.49775579866496034, -0.471619402513195, -0.46532241236360256, -0.4984865604847896, -0.470002397635275, 0.6932926789137625, 1.0744549345119345, 0.8084731802179134, 0.9640166109747609, 0.9353303225155062, 0.9818036646318813, 0.9257215819909429, 0.7798801805016156, 1.1198243598366528, 0.875952037623423, -0.4999636322482743, -0.41962647643853507, -0.42551921536864756, -0.4531171351600714, -0.4665507141458687, -0.4503962134904944, -0.43054125936449544, -0.4645450061722949, -0.45649107803034694, -0.4981445017606142, -0.45321042390302835, -0.4540500225896407, -0.42631216968378144, -0.44033657737497256, -0.42217636874602443, -0.45701971424043614, -0.49467727014738183, -0.4635654743712471, -0.4731742148958104, -0.49540803196721106, -0.4741071023253797, -0.463658763114204, -0.40393841949794546, -0.4941797301849448, -0.4532570682745068, -0.5066804217411729, -0.4644672655531641, -0.45818582352739773, -0.5001968541056666, -0.4614042851594116, -0.4704221969785811, -0.44385045335968343, -0.4740915542015536, -0.42555031161629986, -0.5114225995081499, -0.4774810451956552, -0.44386600148350963, -0.48541058834699385, -0.5233324623589841, -0.4572995804693069, -0.442388929720025, -0.5107695783074515, -0.4713395362843243, -0.4752576634885151, -0.4726455786857212, -0.42988823816379695, -0.47154166189406427, -0.4863434757765631, -0.49405534519433564, -0.5179217152674825, -0.46120215954967164, -0.4861879945383016, -0.415086424281298, -0.48346707286872453, -0.45384789697990074, -0.4243375579578599, -0.4314585986702385, -0.4344438384448601, -0.4903393435998848, -0.3892920868537081, -0.5301580887186659, -0.4688673845959657, -0.4979112799032219, -0.4519043815016314, -0.4590409703378362, -0.45855897849922544, -0.4211346444496721, -0.49994808412444813, -0.460735715834887, -0.465369056735081, -0.44565403572351736, -0.42696519088447993, -0.45653772240182533, -0.5198185863742733, -0.4471932999823066, -0.47825845138696294, -0.4955790613292988, -0.474837864145209, -0.4476597436970913, -0.4989063598280958, -0.4607046195872347, -0.4919408003539787, -0.43875066874470486, -0.4768280239949567, -0.49845546423713727, -0.4685408739956165, -0.4900283811233617, -0.4381131956678326, -0.47388942859181354, -0.4817723273716738, -0.4569264254974792, -0.5237056173308119, -0.5044414919102067, -0.4100177359139717, -0.46739031283248106, -0.44280872906333113, -0.43075893309806157, -0.4546563994188607, -0.5559990705177343, -0.47533540410764585, 0.9908837689463554, 1.155522852141503, 0.8371750168009942, 1.041741681981706, 0.9963256122855094, 1.0669140944562499, 0.9141848741119363, 0.8850165938140709, 1.0245454570299795, 0.9631770122881484, -0.44200022662437116, -0.45726848422165467, -0.3781596301941816, -0.4409585023280188, -0.4547341400379914, -0.39796793994870217, -0.4106707571146702, -0.422844938070549, -0.387768370718745, -0.43212716799476314, -0.45700416611661, -0.4601604352533193, -0.44649363441012974, -0.45423660007555455, -0.43736688572417715, -0.42174102127889207, -0.43197168675650155, -0.40620844557656394, -0.423948854862206, -0.4226894568322875, -0.4392637568309679, -0.43671386452347866, -0.3882659106811819, -0.4242287210910768, -0.4264210065505645, -0.35846015730644415, -0.4269496427606538, -0.45215315148284985, -0.4422179003579373, -0.4433529133972466, -0.4593363846905331, -0.43867292812557407, -0.4291730244677939, -0.4405076067370603, -0.4233580261568122, -0.35940859285983956, -0.4099710915424933, -0.4588388447280962, -0.4152885498910381, -0.43343321039616006, -0.42533263788273373, -0.41821159717035505, -0.4026323770965484, -0.440880761708888, -0.441891389757588, -0.44804844679274514, -0.4537235119892914, -0.478973665082966, -0.3929925403243328, -0.4431507877875065, -0.4266386802841307, -0.47738775645269826, -0.4272450571133507, -0.43430390533042473, -0.4175430278458304, -0.39843438366348677, -0.44215570786263264, -0.4301059118973631, -0.4021659333817639, -0.4255036672448214, -0.38493861218238484, -0.4415182347857603, -0.415988215463215, -0.441689264147848, -0.4041560932315116, -0.4709508331886704, -0.4088671747508363, -0.46807443028083184, -0.4428242771871573, -0.5005544609536682, -0.3989785679974022, -0.4666284547649995, -0.4836536503546384, -0.4595540584240993, -0.3998959073031453, -0.3912511504558035, -0.3999270035507976, -0.4695515020443165, -0.4474887143350036, -0.4442547045791635, -0.42567469660690915, -0.4267786133985661, -0.4029588876968977, -0.46141983328323777, -0.4155062236246042, -0.4831716585160276, -0.44943222981327285, -0.4495255185562298, -0.4205904601157566, -0.42575243722603984, -0.42413543234811985, -0.4825963779344599, -0.501751666488282, -0.4306189999836261, -0.39840328741583453, -0.4359209102083448, -0.4181805009227027, -0.4333088254055509, -0.4612643520449763, -0.4237311811286399, 0.7533239850065442, 0.6598175683160522, 0.7541946799408088, 0.6604550413929247, 0.6813983641867544, 0.5592678515323125, 0.8419638389394498, 0.7358167975782943, 0.5995219441182259, 0.6157386372689049, -0.42343576677594286, -0.4974292880646111, -0.41601931171086726, -0.4402899330034941, -0.3945318045831221, -0.47723227521443673, -0.35427771199720864, -0.4249283866632537, -0.45258849894998215, -0.41329839004129026, -0.4309766068316277, -0.48427557530768456, -0.46434288056255485, -0.4328112854431139, -0.426265525312303, -0.4447056001701219, -0.4236534405095091, -0.455698123715213, -0.4254259266256906, -0.45628895242060685, -0.42786698206639684, -0.435236792759994, -0.45877665223279157, -0.4496809997944913, -0.3616319745669796, -0.37972999070062324, -0.43683824951408784, -0.43797326255339714, -0.4176829609602658, -0.42298487118498446, -0.4009220834756715, -0.42385556611924907, -0.4438815496073358, -0.4711374106745842, -0.44573177634264816, -0.43829977315374646, -0.48130588365688914, -0.4234668630235952, -0.48066841058001686, -0.4714328250272811, -0.42514606039681985, -0.4621972394745455, -0.42623442906465064, -0.4900283811233617, -0.47154166189406427, -0.40269456959185307, -0.46697051348917484, -0.43122537681284623, -0.47046884135005956, -0.4755997222126905, -0.39840328741583453, -0.465773307954561, -0.45373906011311754, -0.39052038863597427, -0.41636137043504273, -0.4207459413540182, -0.3698413839471891, -0.45072272409084363, -0.42352905551889986, -0.41925332146670746, -0.44302640279689726, -0.4503029247475375, -0.42001517953418893, -0.46459165054377327, -0.4064105711863039, -0.4519199296254576, -0.4538012526084222, -0.3960244244704329, -0.409442455332404, -0.46157531452149936, -0.39633538694695597, -0.42076148947784436, -0.4485148905075297, -0.4455296507329081, -0.40274121396333157, -0.43054125936449544, -0.4751488266217321, -0.4376001075815694, -0.4889089162078786, -0.43335546977702927, -0.468089978404658, -0.44083411733740957, -0.46477822802968716, -0.41702993975956726, -0.4045292482033393, -0.46524467174447176, -0.43506576339790626, -0.3971905337573945, -0.4240732398528152, -0.4439126458549881, -0.4209480669637582, -0.4497898366612744, -0.40358081264994383, -0.41657904416860886, -0.45069162784319133, -0.42178766565037057, -0.44464340767481736, -0.3960088763466067, -0.43917046808801097, -0.44207796724350185, 0.7253529102432926, 0.4607860352174512, 0.7341376002050698, 0.6827510509596297, 0.6973507392323888, 0.7151999853848138, 0.6905406609965332, 0.6151322604396849, 0.6371639519013454, 0.6352826289183807, -0.2745624811405156, -0.30178724596011175, -0.23584765281339143, -0.1711519095727635, -0.2456585189476948, -0.278029712753748, -0.2636010538430768, -0.29618992138269623, -0.26224836707020144, -0.2695248890208416, -0.2713906638799802, -0.27617948601843567, -0.23278467241963904, -0.2575061893032244, -0.31763078413896295, -0.28081282691862963, -0.25206434596407035, -0.2406209268280208, -0.30876835355805504, -0.3216422000861108, -0.22205646697959258, -0.25469197889069045, -0.23673389587148222, -0.3403776892966267, -0.22194763011280952, -0.2888512069367514, -0.20720800872561526, -0.3116603045897197, -0.23391968545894828, -0.27118853827024014, -0.2657000505596077, -0.21938218968149406, -0.22698522223248352, -0.25206434596407035, -0.24348178161203318, -0.23020368386449744, -0.28479314661812516, -0.24996534924753955, -0.2415538142575901, -0.23814877513966232, -0.2879338676310083, -0.21680120112635246, -0.18671558152274392, -0.18834813452449012, -0.22183879324602646, -0.23808658264435764, -0.27652154474261104, -0.24220683545828856, -0.2320539105998098, -0.26423852691994915, -0.281450299995502, -0.22252291069437724, -0.31881244154975075, -0.2416781992481993, -0.23942372129340694, -0.24304643414490087, -0.20440934643690747, -0.28634795900074056, -0.2378378126631392, -0.29180535046372075, -0.21633475741156785, -0.2963298544971316, -0.26846761660066315, -0.2137537688564262, -0.26067800656375983, -0.1759718279588713, -0.2371536952147884, -0.2963298544971316, -0.22438868555351574, -0.3069803193180473, -0.2511781029059796, -0.26221727082254914, -0.1825797805849869, -0.2803152869561927, -0.2590610016858398, -0.2834560079690759, -0.24851937373170718, -0.2938577028087731, -0.28504191659934364, -0.21283642955068313, -0.26671067860830766, -0.27053551706954165, -0.3076333405187458, -0.21774963667974787, -0.2854928121903021, -0.2452853639758671, -0.19738159446748574, -0.22978388452119125, -0.2096801604139738, -0.27097086453667396, -0.2317118518756344, -0.23521017973651911, -0.2335154342394683, -0.2726967062813771, -0.21465556003834316, -0.18683996651335316, -0.2010820479381105, -0.2503540523431934, -0.25632453189243665, -0.29238063104528844, 2.479196825957322, 2.656663111309047, 2.3549828647101756, 2.5858569554047404, 2.6218508620622876, 2.4655611213617847, 2.474952188152782, 2.491775258132681, 2.463384384026123, 2.471920304006682, -0.2991129686620132, -0.25472307513834275, -0.25094488104858725, -0.2266742597559604, -0.24040325309445465, -0.31694666669061217, -0.2049068863993444, -0.25455204577625506, -0.2538212839564258, -0.23640738527113303, -0.26053807344932445, -0.23514798724121452, -0.27697244033356955, -0.24928123179918876, -0.22934853705405894, -0.19888976247862272, -0.21851149474722942, -0.2357699121942607, -0.27809190524905264, -0.2575994780461813, -0.25377463958494734, -0.251022621667718, -0.25428772767121044, -0.23158746688502516, -0.2913389067489361, -0.18130483443124223, -0.2790247926786219, -0.27233909943337553, -0.2402788681038454, -0.28151249249080657, -0.2982422737277486, -0.2618441158507214, -0.23273802804816057, -0.22687638536570046, -0.2571952268267013, -0.22698522223248352, -0.2644406525296892, -0.223409153752468, -0.2997815379865379, -0.2944329833903408, -0.21179470525433078, -0.23558333470834683, -0.26277700328029063, -0.23381084859216522, -0.259682926638886, -0.22798030215735737, -0.3172576291671353, -0.2696026296399724, -0.20775219305953066, -0.2590299054381875, -0.21061304784354307, -0.22718734784222352, -0.2110017509391969, -0.22917750769197126, -0.27268115815755095, -0.2738317193206864, -0.23701376210035302, -0.21973979652949563, -0.2653424437116061, -0.28319168986403126, -0.24809957438840102, -0.2592164829241013, -0.27380062307303404, -0.2793668514027973, -0.2142668569426893, -0.22580356482169575, -0.19845441501149041, -0.23105883067493593, -0.23388858921129602, -0.29107458864389146, -0.22009740337749717, -0.27566639793217257, -0.2368738289859176, -0.2296128551591036, -0.2771901140671357, -0.2862235740101313, -0.21210566773085388, -0.25618459877800126, -0.2792113701645358, -0.24827060375048873, -0.24772641941657333, -0.22682974099422198, -0.26437846003438453, -0.23572326782278225, -0.2901727974619745, -0.21911787157644944, -0.2940287321708608, -0.3084262948338797, -0.22241407382759415, -0.23332885675355444, -0.26097342091645676, -0.24948335740892877, -0.23418400356399294, -0.2406209268280208, -0.27540207982712794, -0.26406749755786146, -0.2735363049679894, -0.29558354455347624, -0.2588122317046213, -0.2311054750464144, 2.7035873490163804, 2.4676134737068374, 2.645173047801519, 2.3003623057088953, 2.742022311114634, 2.308167463869625, 2.579031329045059, 2.41827927680645, 2.47936785531941, 2.5547296115047793, 0.34611862199956334, -0.2575994780461813, 2.0542821499123516, 0.3768572628038705, 0.2496891580297545, 0.5066219042569541, 0.9368073942789908, 1.2898119976279976, 1.7074190554746755, 0.9825655226993629, 0.7655292622100752, 0.4217446962899778, 0.5002938178597094, 0.8230106759953676, -0.16235167148716018, 0.20279601657007323, 1.0465926966154664, -0.3280480271024864, -0.22326922063803262, 0.20864211112870723, 1.2062563801862447, -0.011721447859377468, 0.5898043667268795, 1.777976441397764, -0.3578537804772241, 0.5955882687902089, 1.1016796993315308, 0.44915603859548797, 0.8826377308686694, 0.6645752942068555, 0.8392273691460467, 0.5659379966537326, -0.006854885101791184, -0.336879361435742, 1.5802198544529076, 0.61082543013984, 0.3047139682505145, 0.42207120689032707, 0.8742883883740244, 0.3002205604647559, -0.2817146181005466, 1.4167002361732428, 0.48533652273894895, 0.5211749481582345, 1.8735974029286127, 0.0029404329086860333, 1.4525697578401806, 1.3168035405902017, 1.0421148369535338, 0.3758777310028226, 1.3604315760463903, -0.4562423080491284, 1.2329836050434038, 1.7627392800481323, 0.1857241766089558, 0.7476644679338239, 0.7267522413876465, -0.3267419847010894, 0.7885560335966098, -0.5431563202373308, 1.4622406908600487, -0.023040482004817744, 0.22989639639906018, -0.06074468228324188, 1.6296162438485995, -0.5217310056048903, 0.8678203688623444, -0.5591864359020959, 0.18765214396339894, 0.3570800492970022, 0.5219523543495422, 0.9359056030970739, 0.09007211883045467, 1.6948406232993165, -0.40339423516403, 0.27131659827193505, -0.3558480725036502, -0.4928736877835479, 1.0417883263531844, 0.5612113670105817, -0.08426899363221331, 0.2992721249113605, 1.2000215825319565, 0.3961835807197802, 0.2416041336401544, 1.2331390862816654, -0.0546187214957371, 1.4205872671297815, 1.1856084717451116, 0.5897732704792272, 0.11249251338776918, -0.07494011933652074, -0.1803563988778468, -0.17970337767714833, 1.4894499075558187, 0.643554230793895, -0.4843066715553369, 0.32993302509653677, 1.519582171530906, 1.2014364618001367, 0.40495272255773124, 0.6361844201002977, 0.5310480067878425, 0.43419874347472753, 0.34450161712164334, 0.46552821298442837, 0.3917834616769785, 0.2508241710690638, 0.640226932295098, 0.36427883062851163, 1.2909314625434807, 1.6051590450700588, 1.3509472205124364, 2.1064927497205774, 0.2474968725702668, 0.12982867145393118, 0.21758228232874594, 0.007076233846443112, 0.47888405135109474, -0.3734951930463353, -0.2662442348935231, 1.919371079472811, -0.02210759457524854, -0.06882970667284209, 0.7270010113688649, 1.4341763273538404, 0.5359456657930811, 0.9640321590985871, 0.5706335300492313, 0.2896944806344495, -0.3658299680000413, 0.9886448391153891, 2.080200872330551, 0.7452700568645961, 1.06165882860301, 0.3804644275315382, 0.9262346700772058, 0.1566025406825688, 0.7893023435402652, 0.8435341994458914, 0.046024284030959615, -0.5224928636723718, 0.6992009659677011, 0.21329100015272737, 1.9369871037678437, 0.33024398757305995, 0.9601606762658746, 1.667475925365285, -0.3830572891994202, 0.8922153751455804, 1.736012055190973, -0.3549929256932117, 1.04354526434554, 0.021458248385635825, 1.7885491655995491, 0.3582461585839638, 2.521114567792634, -0.2437150034694255, 1.3408875843969146, 0.8686444194251305, 1.4182550485558583, 0.25276768654733306, 0.48496336776712123, 0.4927218815563722, -0.19937175431723347, 0.7389575185911776, 0.3249887217198198, 1.4931503610264436, 1.3305947264240003, 0.2496891580297545, 0.2813606862636308, 0.32540852106312596, 0.41028572903010224, 0.8875042936262556, 0.31785213288361497, 0.7163039021764708, 1.389910818820779, 0.651126167097232, -0.23309563489616217, 0.1462474902143501, -0.2224296219514203, -0.480683958703843, 0.8697327880929613, 0.9482197171673881, 1.3307191114146097, -0.5154340154552978, 0.6104522751680124, 0.0492271975391474, 0.886338184339294, 0.4824445717072842, -0.2915721286063284, 0.5932405020924596, -0.19609110018991494, 0.8941277943761973, 1.619463318990121, 2.403897262267257, -0.385855951488128, 0.7422692689661485, 0.005272651482609176, -0.288104896993096, 0.7763663045169048, 0.785570793821988, 2.3124742941694696, 0.6542668881101152, 0.6975217685944763, 0.23165333439141558, 1.3612711747330026, 1.2112784241820922, 1.8965775299436682, 0.13900206451136216, 0.5154998829616882, 0.6693019238500063, 0.5425069740477182, 0.5903485510607949, 0.9126767061007993, 0.17709496788544016, 0.6213359618463203, 0.7071149609952136, 0.6285502913016561, 0.6867158225352992]\n",
      "***************************************************************************\n",
      "* 1  = Average transactions of any user and of all users                  *\n",
      "* 2  = Mode of transactions of any user and that of all users             *\n",
      "* 3  = Median of all transactions of a user and that of all users         *\n",
      "* 4  = Interquartile range of any user’s transactions and of all users    *\n",
      "* 5  = Location centroid of any user based on their transaction locations *\n",
      "* 6  = Computes the standard deviation of any specific user’s transaction *\n",
      "* 7  = the transaction is fraudulent or not with details                  *\n",
      "* 8  = Abnormal transaction for any given user                            *\n",
      "* 9  = Z-score of any user’s transactions and for all users’ transactions *\n",
      "* 10 = Computes the frequencies of transactions at any given location     *\n",
      "* 11 = Outlier of any location and of any user                            *\n",
      "* 12 = Nth percentiles of transactions of any user and of all users       *\n",
      "* 0  = Back                                                               *\n",
      "***************************************************************************\n"
     ]
    },
    {
     "name": "stdin",
     "output_type": "stream",
     "text": [
      "Welcome to the Statistics module. Please select the desired function : 12\n",
      "Please enter the user ID or enter 0 for total information separately for each user:  27\n"
     ]
    },
    {
     "name": "stdout",
     "output_type": "stream",
     "text": [
      "[-0.3435239518506657, -0.37779813974856585, -0.294784529882778, -0.21333684522077767, -0.3071357649276523, -0.3478889683562235, -0.32972423599228784, -0.37075147633152183, -0.3280212923331689, -0.3371819547753261, -0.33953084258100746, -0.3455596546155895, -0.2909284390684511, -0.3220512024937288, -0.39774411203180987, -0.3513927259996982, -0.31520027972715825, -0.3007937678523127, -0.3865868949548235, -0.4027942208140247, -0.2774223341857834, -0.31850829672015946, -0.29590025159047656, -0.4263809691960748, -0.277285315730452, -0.36151251762917525, -0.2587291020655695, -0.39022767105362954, -0.2923573458169072, -0.339276379735392, -0.3323667347736794, -0.27405559499764015, -0.2836273128057916, -0.31520027972715825, -0.3043953958210241, -0.28767914427059194, -0.3564036866518184, -0.31255778094576675, -0.3019682117551534, -0.29768149150978496, -0.3603576477913819, -0.27080630019978097, -0.23293048433316946, -0.23498576116314066, -0.27714829727512064, -0.29760319524959555, -0.34599028404663107, -0.3027903224871418, -0.29000845801122593, -0.3305267726592289, -0.3521952626666393, -0.27800955613720374, -0.39923174097540803, -0.3021248042755321, -0.2992865648436672, -0.30384732199969844, -0.25520577035704745, -0.35836109315655285, -0.29729001020883805, -0.36523158998817074, -0.27021907824836067, -0.37092764291694796, -0.3358509183521067, -0.26696978345050143, -0.32604431176338705, -0.21940480538545443, -0.2964287513467549, -0.37092764291694796, -0.28035844394288506, -0.3843358774743789, -0.3140845580194596, -0.3279821442030742, -0.22772378303057583, -0.3507663559181831, -0.3240086089984633, -0.3547203170577467, -0.3107373928963637, -0.36781536657442016, -0.3567168716925759, -0.2658149136127082, -0.3336390490017567, -0.3384542690034035, -0.3851579882063674, -0.272000318167669, -0.35728451957894886, -0.306665987366516, -0.24635829295564773, -0.2871506445143136, -0.26184137840809724, -0.33900234282472913, -0.2895778285801843, -0.29398199321583685, -0.2918484201256763, -0.3411750640449844, -0.26810507922324744, -0.23308707685354824, -0.25101692043691576, -0.3130471325719504, -0.32056357355013065, -0.36595583039492247, 3.123277856814607, 3.3466962352649974, 2.9669006511513727, 3.2575559430393906, 3.302869903623993, 3.106111401768086, 3.117934137056682, 3.1391132754379094, 3.103371032661458, 3.1141171943724504]\n",
      "***************************************************************************\n",
      "* 1  = Average transactions of any user and of all users                  *\n",
      "* 2  = Mode of transactions of any user and that of all users             *\n",
      "* 3  = Median of all transactions of a user and that of all users         *\n",
      "* 4  = Interquartile range of any user’s transactions and of all users    *\n",
      "* 5  = Location centroid of any user based on their transaction locations *\n",
      "* 6  = Computes the standard deviation of any specific user’s transaction *\n",
      "* 7  = the transaction is fraudulent or not with details                  *\n",
      "* 8  = Abnormal transaction for any given user                            *\n",
      "* 9  = Z-score of any user’s transactions and for all users’ transactions *\n",
      "* 10 = Computes the frequencies of transactions at any given location     *\n",
      "* 11 = Outlier of any location and of any user                            *\n",
      "* 12 = Nth percentiles of transactions of any user and of all users       *\n",
      "* 0  = Back                                                               *\n",
      "***************************************************************************\n"
     ]
    },
    {
     "name": "stdin",
     "output_type": "stream",
     "text": [
      "Welcome to the Statistics module. Please select the desired function : 0\n"
     ]
    },
    {
     "name": "stdout",
     "output_type": "stream",
     "text": [
      "*****************************\n",
      "* 1 = Distance module II    *\n",
      "* 2 = Statistics module III *\n",
      "* 3 = Exit                  *\n",
      "*****************************\n"
     ]
    },
    {
     "name": "stdin",
     "output_type": "stream",
     "text": [
      "Please select the module : 1\n"
     ]
    },
    {
     "name": "stdout",
     "output_type": "stream",
     "text": [
      "****************************************************************\n",
      "* 1 = Computes the distance between any two given transactions *\n",
      "* 2 = Computes the distance of transactions of any two users   *\n",
      "* 0 = Back                                                     *\n",
      "****************************************************************\n"
     ]
    },
    {
     "name": "stdin",
     "output_type": "stream",
     "text": [
      "Welcome to the distance module. Please select the desired function : 3\n"
     ]
    },
    {
     "name": "stdout",
     "output_type": "stream",
     "text": [
      "Invalid input. Please select a valid option.\n",
      "****************************************************************\n",
      "* 1 = Computes the distance between any two given transactions *\n",
      "* 2 = Computes the distance of transactions of any two users   *\n",
      "* 0 = Back                                                     *\n",
      "****************************************************************\n"
     ]
    },
    {
     "name": "stdin",
     "output_type": "stream",
     "text": [
      "Welcome to the distance module. Please select the desired function : 0\n"
     ]
    },
    {
     "name": "stdout",
     "output_type": "stream",
     "text": [
      "*****************************\n",
      "* 1 = Distance module II    *\n",
      "* 2 = Statistics module III *\n",
      "* 3 = Exit                  *\n",
      "*****************************\n"
     ]
    },
    {
     "name": "stdin",
     "output_type": "stream",
     "text": [
      "Please select the module : 3\n"
     ]
    },
    {
     "name": "stdout",
     "output_type": "stream",
     "text": [
      "***********\n",
      "* 0 = No  *\n",
      "* 1 = Yes *\n",
      "***********\n"
     ]
    },
    {
     "name": "stdin",
     "output_type": "stream",
     "text": [
      "Are you sure you want to exit the program? :  0\n"
     ]
    },
    {
     "name": "stdout",
     "output_type": "stream",
     "text": [
      "*****************************\n",
      "* 1 = Distance module II    *\n",
      "* 2 = Statistics module III *\n",
      "* 3 = Exit                  *\n",
      "*****************************\n"
     ]
    },
    {
     "name": "stdin",
     "output_type": "stream",
     "text": [
      "Please select the module : 3\n"
     ]
    },
    {
     "name": "stdout",
     "output_type": "stream",
     "text": [
      "***********\n",
      "* 0 = No  *\n",
      "* 1 = Yes *\n",
      "***********\n"
     ]
    },
    {
     "name": "stdin",
     "output_type": "stream",
     "text": [
      "Are you sure you want to exit the program? :  1\n"
     ]
    }
   ],
   "source": [
    "import test_module\n",
    "\n",
    "import statistics_module\n",
    "import distance_module\n",
    "import dataset_module\n",
    "\n",
    "#statistics_module.get_zscoresr_of_transactions_all()\n",
    "test_module.create_menu()\n",
    "\n",
    "\n",
    "\n",
    "\n",
    "\n"
   ]
  },
  {
   "cell_type": "code",
   "execution_count": null,
   "id": "724c86c0-e61e-4d94-99dd-a6d98d6fc3f1",
   "metadata": {},
   "outputs": [],
   "source": []
  },
  {
   "cell_type": "code",
   "execution_count": null,
   "id": "bb2e61a2-7cc9-4c5c-811c-91658b919c39",
   "metadata": {},
   "outputs": [],
   "source": []
  },
  {
   "cell_type": "code",
   "execution_count": null,
   "id": "15504265-2299-4472-8f2c-b224c556653b",
   "metadata": {},
   "outputs": [],
   "source": []
  },
  {
   "cell_type": "code",
   "execution_count": null,
   "id": "2f9e6d8e-e47c-4486-8c7a-be5eb054eb4b",
   "metadata": {},
   "outputs": [],
   "source": []
  },
  {
   "cell_type": "code",
   "execution_count": null,
   "id": "64f974af-f035-4d16-93ba-47a10b6de58f",
   "metadata": {},
   "outputs": [],
   "source": []
  },
  {
   "cell_type": "code",
   "execution_count": null,
   "id": "3c73ec66-93c9-4bc6-a123-8bf3ba6ad6f5",
   "metadata": {},
   "outputs": [],
   "source": []
  }
 ],
 "metadata": {
  "kernelspec": {
   "display_name": "Python 3 (ipykernel)",
   "language": "python",
   "name": "python3"
  },
  "language_info": {
   "codemirror_mode": {
    "name": "ipython",
    "version": 3
   },
   "file_extension": ".py",
   "mimetype": "text/x-python",
   "name": "python",
   "nbconvert_exporter": "python",
   "pygments_lexer": "ipython3",
   "version": "3.9.13"
  }
 },
 "nbformat": 4,
 "nbformat_minor": 5
}
